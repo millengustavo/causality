{
 "cells": [
  {
   "cell_type": "markdown",
   "metadata": {},
   "source": [
    "# Causal Diagrams to compute Causal Inference\n",
    "\n",
    "In this tutorial we will investigate some dangers of relying only on observational data and traditional machine learning models to compute causal effects"
   ]
  },
  {
   "cell_type": "markdown",
   "metadata": {},
   "source": [
    "# Data\n",
    "\n",
    "We will make use of fklearn builtin make_confounded_data method to generate synthetic data for us"
   ]
  },
  {
   "cell_type": "code",
   "execution_count": 3,
   "metadata": {},
   "outputs": [],
   "source": [
    "import numpy as np\n",
    "import pandas as pd\n",
    "\n",
    "from fklearn.training.regression import xgb_regression_learner\n",
    "from fklearn.training.classification import xgb_classification_learner, logistic_classification_learner\n",
    "# from fklearn.training.causal_inference import IPTW_learner\n",
    "from fklearn.validation.evaluators import r2_evaluator, roc_auc_evaluator\n",
    "from fklearn.data.datasets import make_confounded_data\n",
    "\n",
    "from sklearn.model_selection import train_test_split\n",
    "import matplotlib.pyplot as plt\n",
    "import seaborn as sns\n",
    "\n",
    "pd.set_option(\"max_columns\", 500)\n",
    "\n",
    "N=10000\n",
    "\n",
    "features = [\"sex\", \"age\", \"severity\"]\n",
    "treatment = [\"medication\"]\n",
    "\n",
    "np.random.seed(42)"
   ]
  },
  {
   "cell_type": "code",
   "execution_count": 6,
   "metadata": {},
   "outputs": [
    {
     "data": {
      "text/plain": [
       "'1.18.0'"
      ]
     },
     "execution_count": 6,
     "metadata": {},
     "output_type": "execute_result"
    }
   ],
   "source": [
    "import fklearn\n",
    "fklearn.__version__"
   ]
  },
  {
   "cell_type": "code",
   "execution_count": 7,
   "metadata": {},
   "outputs": [
    {
     "data": {
      "text/plain": [
       "'0.24.0'"
      ]
     },
     "execution_count": 7,
     "metadata": {},
     "output_type": "execute_result"
    }
   ],
   "source": [
    "pd.__version__"
   ]
  },
  {
   "cell_type": "code",
   "execution_count": 8,
   "metadata": {},
   "outputs": [
    {
     "data": {
      "text/plain": [
       "'1.16.6'"
      ]
     },
     "execution_count": 8,
     "metadata": {},
     "output_type": "execute_result"
    }
   ],
   "source": [
    "np.__version__"
   ]
  },
  {
   "cell_type": "code",
   "execution_count": 5,
   "metadata": {},
   "outputs": [],
   "source": [
    "df_rnd, df_obs, df_cf = make_confounded_data(N)"
   ]
  },
  {
   "cell_type": "code",
   "execution_count": 6,
   "metadata": {
    "scrolled": true
   },
   "outputs": [
    {
     "data": {
      "text/html": [
       "<div>\n",
       "<style scoped>\n",
       "    .dataframe tbody tr th:only-of-type {\n",
       "        vertical-align: middle;\n",
       "    }\n",
       "\n",
       "    .dataframe tbody tr th {\n",
       "        vertical-align: top;\n",
       "    }\n",
       "\n",
       "    .dataframe thead th {\n",
       "        text-align: right;\n",
       "    }\n",
       "</style>\n",
       "<table border=\"1\" class=\"dataframe\">\n",
       "  <thead>\n",
       "    <tr style=\"text-align: right;\">\n",
       "      <th></th>\n",
       "      <th>sex</th>\n",
       "      <th>age</th>\n",
       "      <th>severity</th>\n",
       "      <th>medication</th>\n",
       "      <th>recovery</th>\n",
       "    </tr>\n",
       "  </thead>\n",
       "  <tbody>\n",
       "    <tr>\n",
       "      <th>0</th>\n",
       "      <td>0</td>\n",
       "      <td>35.857725</td>\n",
       "      <td>0.713511</td>\n",
       "      <td>0</td>\n",
       "      <td>35</td>\n",
       "    </tr>\n",
       "    <tr>\n",
       "      <th>1</th>\n",
       "      <td>1</td>\n",
       "      <td>26.162705</td>\n",
       "      <td>0.191286</td>\n",
       "      <td>1</td>\n",
       "      <td>9</td>\n",
       "    </tr>\n",
       "    <tr>\n",
       "      <th>2</th>\n",
       "      <td>1</td>\n",
       "      <td>25.284784</td>\n",
       "      <td>0.010045</td>\n",
       "      <td>1</td>\n",
       "      <td>11</td>\n",
       "    </tr>\n",
       "    <tr>\n",
       "      <th>3</th>\n",
       "      <td>1</td>\n",
       "      <td>41.616736</td>\n",
       "      <td>0.858321</td>\n",
       "      <td>0</td>\n",
       "      <td>107</td>\n",
       "    </tr>\n",
       "    <tr>\n",
       "      <th>4</th>\n",
       "      <td>0</td>\n",
       "      <td>22.062427</td>\n",
       "      <td>0.008502</td>\n",
       "      <td>1</td>\n",
       "      <td>5</td>\n",
       "    </tr>\n",
       "  </tbody>\n",
       "</table>\n",
       "</div>"
      ],
      "text/plain": [
       "   sex        age  severity  medication  recovery\n",
       "0    0  35.857725  0.713511           0        35\n",
       "1    1  26.162705  0.191286           1         9\n",
       "2    1  25.284784  0.010045           1        11\n",
       "3    1  41.616736  0.858321           0       107\n",
       "4    0  22.062427  0.008502           1         5"
      ]
     },
     "execution_count": 6,
     "metadata": {},
     "output_type": "execute_result"
    }
   ],
   "source": [
    "df_rnd.head()"
   ]
  },
  {
   "cell_type": "code",
   "execution_count": 7,
   "metadata": {},
   "outputs": [
    {
     "data": {
      "text/html": [
       "<div>\n",
       "<style scoped>\n",
       "    .dataframe tbody tr th:only-of-type {\n",
       "        vertical-align: middle;\n",
       "    }\n",
       "\n",
       "    .dataframe tbody tr th {\n",
       "        vertical-align: top;\n",
       "    }\n",
       "\n",
       "    .dataframe thead th {\n",
       "        text-align: right;\n",
       "    }\n",
       "</style>\n",
       "<table border=\"1\" class=\"dataframe\">\n",
       "  <thead>\n",
       "    <tr style=\"text-align: right;\">\n",
       "      <th></th>\n",
       "      <th>sex</th>\n",
       "      <th>age</th>\n",
       "      <th>severity</th>\n",
       "      <th>medication</th>\n",
       "      <th>recovery</th>\n",
       "    </tr>\n",
       "  </thead>\n",
       "  <tbody>\n",
       "    <tr>\n",
       "      <th>sex</th>\n",
       "      <td>1.000000</td>\n",
       "      <td>0.020541</td>\n",
       "      <td>0.022876</td>\n",
       "      <td>0.226197</td>\n",
       "      <td>0.289954</td>\n",
       "    </tr>\n",
       "    <tr>\n",
       "      <th>age</th>\n",
       "      <td>0.020541</td>\n",
       "      <td>1.000000</td>\n",
       "      <td>0.557409</td>\n",
       "      <td>0.470338</td>\n",
       "      <td>0.598271</td>\n",
       "    </tr>\n",
       "    <tr>\n",
       "      <th>severity</th>\n",
       "      <td>0.022876</td>\n",
       "      <td>0.557409</td>\n",
       "      <td>1.000000</td>\n",
       "      <td>0.799194</td>\n",
       "      <td>0.172188</td>\n",
       "    </tr>\n",
       "    <tr>\n",
       "      <th>medication</th>\n",
       "      <td>0.226197</td>\n",
       "      <td>0.470338</td>\n",
       "      <td>0.799194</td>\n",
       "      <td>1.000000</td>\n",
       "      <td>-0.085889</td>\n",
       "    </tr>\n",
       "    <tr>\n",
       "      <th>recovery</th>\n",
       "      <td>0.289954</td>\n",
       "      <td>0.598271</td>\n",
       "      <td>0.172188</td>\n",
       "      <td>-0.085889</td>\n",
       "      <td>1.000000</td>\n",
       "    </tr>\n",
       "  </tbody>\n",
       "</table>\n",
       "</div>"
      ],
      "text/plain": [
       "                 sex       age  severity  medication  recovery\n",
       "sex         1.000000  0.020541  0.022876    0.226197  0.289954\n",
       "age         0.020541  1.000000  0.557409    0.470338  0.598271\n",
       "severity    0.022876  0.557409  1.000000    0.799194  0.172188\n",
       "medication  0.226197  0.470338  0.799194    1.000000 -0.085889\n",
       "recovery    0.289954  0.598271  0.172188   -0.085889  1.000000"
      ]
     },
     "execution_count": 7,
     "metadata": {},
     "output_type": "execute_result"
    }
   ],
   "source": [
    "df_obs.corr()"
   ]
  },
  {
   "cell_type": "code",
   "execution_count": 8,
   "metadata": {},
   "outputs": [
    {
     "data": {
      "text/html": [
       "<div>\n",
       "<style scoped>\n",
       "    .dataframe tbody tr th:only-of-type {\n",
       "        vertical-align: middle;\n",
       "    }\n",
       "\n",
       "    .dataframe tbody tr th {\n",
       "        vertical-align: top;\n",
       "    }\n",
       "\n",
       "    .dataframe thead th {\n",
       "        text-align: right;\n",
       "    }\n",
       "</style>\n",
       "<table border=\"1\" class=\"dataframe\">\n",
       "  <thead>\n",
       "    <tr style=\"text-align: right;\">\n",
       "      <th></th>\n",
       "      <th>sex</th>\n",
       "      <th>age</th>\n",
       "      <th>severity</th>\n",
       "      <th>medication</th>\n",
       "      <th>recovery</th>\n",
       "    </tr>\n",
       "  </thead>\n",
       "  <tbody>\n",
       "    <tr>\n",
       "      <th>sex</th>\n",
       "      <td>1.000000</td>\n",
       "      <td>0.020541</td>\n",
       "      <td>0.022876</td>\n",
       "      <td>0.002773</td>\n",
       "      <td>0.289559</td>\n",
       "    </tr>\n",
       "    <tr>\n",
       "      <th>age</th>\n",
       "      <td>0.020541</td>\n",
       "      <td>1.000000</td>\n",
       "      <td>0.557409</td>\n",
       "      <td>-0.005334</td>\n",
       "      <td>0.606501</td>\n",
       "    </tr>\n",
       "    <tr>\n",
       "      <th>severity</th>\n",
       "      <td>0.022876</td>\n",
       "      <td>0.557409</td>\n",
       "      <td>1.000000</td>\n",
       "      <td>-0.013713</td>\n",
       "      <td>0.514881</td>\n",
       "    </tr>\n",
       "    <tr>\n",
       "      <th>medication</th>\n",
       "      <td>0.002773</td>\n",
       "      <td>-0.005334</td>\n",
       "      <td>-0.013713</td>\n",
       "      <td>1.000000</td>\n",
       "      <td>-0.522704</td>\n",
       "    </tr>\n",
       "    <tr>\n",
       "      <th>recovery</th>\n",
       "      <td>0.289559</td>\n",
       "      <td>0.606501</td>\n",
       "      <td>0.514881</td>\n",
       "      <td>-0.522704</td>\n",
       "      <td>1.000000</td>\n",
       "    </tr>\n",
       "  </tbody>\n",
       "</table>\n",
       "</div>"
      ],
      "text/plain": [
       "                 sex       age  severity  medication  recovery\n",
       "sex         1.000000  0.020541  0.022876    0.002773  0.289559\n",
       "age         0.020541  1.000000  0.557409   -0.005334  0.606501\n",
       "severity    0.022876  0.557409  1.000000   -0.013713  0.514881\n",
       "medication  0.002773 -0.005334 -0.013713    1.000000 -0.522704\n",
       "recovery    0.289559  0.606501  0.514881   -0.522704  1.000000"
      ]
     },
     "execution_count": 8,
     "metadata": {},
     "output_type": "execute_result"
    }
   ],
   "source": [
    "df_rnd.corr()"
   ]
  },
  {
   "cell_type": "markdown",
   "metadata": {},
   "source": [
    "$Sex \\sim  \\mathcal{B}(0.5)$\n",
    "\n",
    "$Age \\sim \\operatorname{Gamma}(8, 4)$\n",
    "\n",
    "$Severity \\sim \\mathbb{1}_{\\{age \\lt 30\\}} \\operatorname{Beta}(1,3) + \\mathbb{1}_{\\{age \\geq 30\\}} \\operatorname{Beta}(3,1.5)$\n",
    "\n",
    "$Medication \\sim \\mathcal{B}(-0.8 + 0.33*sex + 1.5*severity)$\n",
    "\n",
    "$Recovery = \\operatorname{Poisson}(2+0.5 * sex+0.03 * age+ 1*severity-1 * medication)$\n",
    "\n",
    "\n",
    "Looking at the recovery formula, the linear factor that multiply the medication is `−1`. \n",
    "\n",
    "This relation is inside a Poisson model, so the expected causal effect of medication on recovery time is\n",
    "`𝑒𝑥𝑝(−1)≈0.36`."
   ]
  },
  {
   "cell_type": "markdown",
   "metadata": {},
   "source": [
    "# Let's represent the observational process as a causal diagram"
   ]
  },
  {
   "cell_type": "code",
   "execution_count": 9,
   "metadata": {},
   "outputs": [],
   "source": [
    "from causalnex.structure import StructureModel\n",
    "sm = StructureModel()"
   ]
  },
  {
   "cell_type": "code",
   "execution_count": 10,
   "metadata": {},
   "outputs": [],
   "source": [
    "sm.add_edges_from([\n",
    "    ('sex', 'medication'),\n",
    "    ('sex', 'recovery'),\n",
    "    ('age', 'severity'),\n",
    "    ('age', 'recovery'),\n",
    "    ('severity', 'medication'),\n",
    "    ('severity', 'recovery'),\n",
    "    ('medication', 'recovery')\n",
    "])"
   ]
  },
  {
   "cell_type": "code",
   "execution_count": 11,
   "metadata": {},
   "outputs": [
    {
     "name": "stderr",
     "output_type": "stream",
     "text": [
      "/home/millengustavo/miniconda3/envs/causality/lib/python3.7/site-packages/pygraphviz/agraph.py:1341: RuntimeWarning: Warning: node 'sex', graph '' size too small for label\n",
      "Warning: node 'medication', graph '' size too small for label\n",
      "Warning: node 'recovery', graph '' size too small for label\n",
      "Warning: node 'age', graph '' size too small for label\n",
      "Warning: node 'severity', graph '' size too small for label\n",
      "\n",
      "  warnings.warn(b\"\".join(errors).decode(self.encoding), RuntimeWarning)\n"
     ]
    },
    {
     "data": {
      "image/png": "[encoded data removed]",
      "text/plain": [
       "<IPython.core.display.Image object>"
      ]
     },
     "execution_count": 11,
     "metadata": {},
     "output_type": "execute_result"
    }
   ],
   "source": [
    "from IPython.display import Image\n",
    "from causalnex.plots import plot_structure, NODE_STYLE, EDGE_STYLE\n",
    "\n",
    "viz = plot_structure(\n",
    "    sm,\n",
    "    graph_attributes={\"scale\": \"0.5\"},\n",
    "    all_node_attributes=NODE_STYLE.WEAK,\n",
    "    all_edge_attributes=EDGE_STYLE.WEAK)\n",
    "filename = \"./structure_model.png\"\n",
    "viz.draw(filename)\n",
    "Image(filename)"
   ]
  },
  {
   "cell_type": "markdown",
   "metadata": {},
   "source": [
    "We are interested in measuring the effectiveness of treatment (medication) on recovery. Our observational data may be introducing bias on the measure. Treatment in our synthetically generated observation data is influenced by sex, by severity and by age proxied by severity. This simulates a real world scenario where we are often dealing with data that is generated by a non-random process.\n",
    "\n",
    "An interested reader may ask: but Gustavo, recovery is also influenced by these same factors, wouldn't it be cancelled then? It isn't that simple...\n",
    "\n",
    "The problem we are dealing here is confounding. Both medication and recovery on our Causal Diagram have arrows coming from sex, severity and indirectly, age. On our observational data these variables are common causes of medication and recovery, so we may be measuring indirect effects while we are trying to isolate the effect of medication on recovery.\n",
    "\n",
    "To mitigate this problem we should eliminate our arrows arriving at medication by assigning treatment groups randomly. fklearn's function automatically did this for the `df_rnd` data"
   ]
  },
  {
   "cell_type": "markdown",
   "metadata": {},
   "source": [
    "# The random medication assignment would lead to a causal diagram like this"
   ]
  },
  {
   "cell_type": "code",
   "execution_count": 12,
   "metadata": {},
   "outputs": [
    {
     "name": "stderr",
     "output_type": "stream",
     "text": [
      "/home/millengustavo/miniconda3/envs/causality/lib/python3.7/site-packages/pygraphviz/agraph.py:1341: RuntimeWarning: Warning: node 'sex', graph '' size too small for label\n",
      "Warning: node 'recovery', graph '' size too small for label\n",
      "Warning: node 'medication', graph '' size too small for label\n",
      "Warning: node 'age', graph '' size too small for label\n",
      "Warning: node 'severity', graph '' size too small for label\n",
      "\n",
      "  warnings.warn(b\"\".join(errors).decode(self.encoding), RuntimeWarning)\n"
     ]
    },
    {
     "data": {
      "image/png": "[encoded data removed]",
      "text/plain": [
       "<IPython.core.display.Image object>"
      ]
     },
     "execution_count": 12,
     "metadata": {},
     "output_type": "execute_result"
    }
   ],
   "source": [
    "sm.remove_edges_from([\n",
    "    ('sex', 'medication'),\n",
    "    ('severity', 'medication'),\n",
    "])\n",
    "\n",
    "viz = plot_structure(\n",
    "    sm,\n",
    "    graph_attributes={\"scale\": \"0.5\"},\n",
    "    all_node_attributes=NODE_STYLE.WEAK,\n",
    "    all_edge_attributes=EDGE_STYLE.WEAK)\n",
    "filename = \"./structure_model.png\"\n",
    "viz.draw(filename)\n",
    "Image(filename)"
   ]
  },
  {
   "cell_type": "markdown",
   "metadata": {},
   "source": [
    "In this scenario we can measure the effect of medication on recovery directly without confounders"
   ]
  },
  {
   "cell_type": "markdown",
   "metadata": {},
   "source": [
    "# Confounding\n",
    "\n",
    "![](Confounding.png)\n",
    "*Source:(https://en.wikipedia.org/wiki/Confounding)*\n",
    "\n",
    "\n",
    "$P(y\\mid do(x))=\\sum _{z}P(y\\mid x,z)P(z)$ \n"
   ]
  },
  {
   "cell_type": "markdown",
   "metadata": {},
   "source": [
    "## Fitting simple models to observational/random data"
   ]
  },
  {
   "cell_type": "code",
   "execution_count": 13,
   "metadata": {},
   "outputs": [],
   "source": [
    "regr_learner = xgb_regression_learner(features=features + treatment, target=\"recovery\")"
   ]
  },
  {
   "cell_type": "markdown",
   "metadata": {},
   "source": [
    "# Random data"
   ]
  },
  {
   "cell_type": "code",
   "execution_count": 14,
   "metadata": {},
   "outputs": [
    {
     "name": "stdout",
     "output_type": "stream",
     "text": [
      "[18:57:12] WARNING: /workspace/src/objective/regression_obj.cu:168: reg:linear is now deprecated in favor of reg:squarederror.\n",
      "[18:57:13] WARNING: /workspace/src/objective/regression_obj.cu:168: reg:linear is now deprecated in favor of reg:squarederror.\n"
     ]
    }
   ],
   "source": [
    "sem_fn, df_rnd, _ = regr_learner(df_rnd)"
   ]
  },
  {
   "cell_type": "code",
   "execution_count": 15,
   "metadata": {},
   "outputs": [
    {
     "data": {
      "text/plain": [
       "0.36662948"
      ]
     },
     "execution_count": 15,
     "metadata": {},
     "output_type": "execute_result"
    }
   ],
   "source": [
    "X_neg = df_rnd.copy()\n",
    "X_pos = df_rnd.copy()\n",
    "\n",
    "X_neg[\"medication\"] = 0\n",
    "X_pos[\"medication\"] = 1\n",
    "\n",
    "preds_rnd = sem_fn(X_pos)[\"prediction\"] / sem_fn(X_neg)[\"prediction\"]\n",
    "preds_rnd.mean()"
   ]
  },
  {
   "cell_type": "code",
   "execution_count": 16,
   "metadata": {},
   "outputs": [
    {
     "data": {
      "image/png": "[encoded data removed]",
      "text/plain": [
       "<Figure size 432x288 with 1 Axes>"
      ]
     },
     "metadata": {
      "needs_background": "light"
     },
     "output_type": "display_data"
    }
   ],
   "source": [
    "ax = sns.distplot(preds_rnd)\n",
    "ax.set_xlabel('treatment effect')\n",
    "ax.set_ylabel('density')\n",
    "plt.axvline(np.mean(preds_rnd), label='mean', lw=5)\n",
    "plt.axvline(np.exp(-1), color='r', label='truth')\n",
    "plt.legend();"
   ]
  },
  {
   "cell_type": "code",
   "execution_count": 17,
   "metadata": {},
   "outputs": [
    {
     "name": "stdout",
     "output_type": "stream",
     "text": [
      "[18:57:14] WARNING: /workspace/src/objective/regression_obj.cu:168: reg:linear is now deprecated in favor of reg:squarederror.\n",
      "[18:57:14] WARNING: /workspace/src/objective/regression_obj.cu:168: reg:linear is now deprecated in favor of reg:squarederror.\n"
     ]
    }
   ],
   "source": [
    "sem_fn, df_obs, _ = regr_learner(df_obs)"
   ]
  },
  {
   "cell_type": "code",
   "execution_count": 18,
   "metadata": {},
   "outputs": [
    {
     "data": {
      "text/plain": [
       "0.42997646"
      ]
     },
     "execution_count": 18,
     "metadata": {},
     "output_type": "execute_result"
    }
   ],
   "source": [
    "X_neg = df_obs.copy()\n",
    "X_pos = df_obs.copy()\n",
    "\n",
    "X_neg[\"medication\"] = 0\n",
    "X_pos[\"medication\"] = 1\n",
    "\n",
    "preds_obs = sem_fn(X_pos)[\"prediction\"] / sem_fn(X_neg)[\"prediction\"]\n",
    "preds_obs.mean()"
   ]
  },
  {
   "cell_type": "code",
   "execution_count": 19,
   "metadata": {},
   "outputs": [
    {
     "data": {
      "image/png": "[encoded data removed]",
      "text/plain": [
       "<Figure size 432x288 with 1 Axes>"
      ]
     },
     "metadata": {
      "needs_background": "light"
     },
     "output_type": "display_data"
    }
   ],
   "source": [
    "ax = sns.distplot(preds_rnd)\n",
    "ax.set_xlabel('treatment effect')\n",
    "ax.set_ylabel('density')\n",
    "plt.axvline(np.mean(preds_obs), label='mean', lw=5)\n",
    "plt.axvline(np.exp(-1), color='r', label='truth')\n",
    "plt.legend();"
   ]
  },
  {
   "cell_type": "code",
   "execution_count": 20,
   "metadata": {},
   "outputs": [
    {
     "name": "stdout",
     "output_type": "stream",
     "text": [
      "Factual Evaluation: {'r2_evaluator__recovery': 0.879843582410846}\n",
      "Counter Factual Evaluation {'r2_evaluator__recovery': 0.8037818950149086}\n"
     ]
    }
   ],
   "source": [
    "eval_fn = r2_evaluator(prediction_column=\"prediction\",target_column=\"recovery\")\n",
    "\n",
    "print(\"Factual Evaluation:\", eval_fn(sem_fn(df_obs)))\n",
    "print(\"Counter Factual Evaluation\", eval_fn(sem_fn(df_cf)))"
   ]
  },
  {
   "cell_type": "markdown",
   "metadata": {},
   "source": [
    "# Learning the Structure automatically with CausalNex\n",
    "\n",
    ">As the number of variables grows, or when domain knowledge does not exist, it can be tedious to define a structure manually. We can use CausalNex to learn the structure model from data."
   ]
  },
  {
   "cell_type": "code",
   "execution_count": 21,
   "metadata": {},
   "outputs": [],
   "source": [
    "# Running again to start from scratch (without predictions)\n",
    "N = 10000\n",
    "df_rnd, df_obs, df_cf = make_confounded_data(N)"
   ]
  },
  {
   "cell_type": "code",
   "execution_count": 22,
   "metadata": {},
   "outputs": [],
   "source": [
    "from causalnex.structure.notears import from_pandas\n",
    "from IPython.display import Image\n",
    "from causalnex.plots import plot_structure, NODE_STYLE, EDGE_STYLE\n",
    "\n",
    "sm = from_pandas(df_obs)"
   ]
  },
  {
   "cell_type": "code",
   "execution_count": 23,
   "metadata": {},
   "outputs": [
    {
     "name": "stderr",
     "output_type": "stream",
     "text": [
      "/home/millengustavo/miniconda3/envs/causality/lib/python3.7/site-packages/pygraphviz/agraph.py:1341: RuntimeWarning: Warning: node 'sex', graph '' size too small for label\n",
      "Warning: node 'age', graph '' size too small for label\n",
      "Warning: node 'severity', graph '' size too small for label\n",
      "Warning: node 'medication', graph '' size too small for label\n",
      "Warning: node 'recovery', graph '' size too small for label\n",
      "\n",
      "  warnings.warn(b\"\".join(errors).decode(self.encoding), RuntimeWarning)\n"
     ]
    },
    {
     "data": {
      "image/png": "[encoded data removed]",
      "text/plain": [
       "<IPython.core.display.Image object>"
      ]
     },
     "execution_count": 23,
     "metadata": {},
     "output_type": "execute_result"
    }
   ],
   "source": [
    "viz = plot_structure(\n",
    "    sm,\n",
    "    graph_attributes={\"scale\": \"0.5\"},\n",
    "    all_node_attributes=NODE_STYLE.WEAK,\n",
    "    all_edge_attributes=EDGE_STYLE.WEAK)\n",
    "filename = \"./causalnex_structure_model.png\"\n",
    "viz.draw(filename)\n",
    "Image(filename)"
   ]
  },
  {
   "cell_type": "code",
   "execution_count": 24,
   "metadata": {},
   "outputs": [
    {
     "name": "stderr",
     "output_type": "stream",
     "text": [
      "/home/millengustavo/miniconda3/envs/causality/lib/python3.7/site-packages/pygraphviz/agraph.py:1341: RuntimeWarning: Warning: node 'sex', graph '' size too small for label\n",
      "Warning: node 'age', graph '' size too small for label\n",
      "Warning: node 'recovery', graph '' size too small for label\n",
      "Warning: node 'severity', graph '' size too small for label\n",
      "Warning: node 'medication', graph '' size too small for label\n",
      "\n",
      "  warnings.warn(b\"\".join(errors).decode(self.encoding), RuntimeWarning)\n"
     ]
    },
    {
     "data": {
      "image/png": "[encoded data removed]",
      "text/plain": [
       "<IPython.core.display.Image object>"
      ]
     },
     "execution_count": 24,
     "metadata": {},
     "output_type": "execute_result"
    }
   ],
   "source": [
    "sm.remove_edges_below_threshold(0.8)\n",
    "viz = plot_structure(\n",
    "    sm,\n",
    "    graph_attributes={\"scale\": \"0.5\"},\n",
    "    all_node_attributes=NODE_STYLE.WEAK,\n",
    "    all_edge_attributes=EDGE_STYLE.WEAK)\n",
    "filename = \"./causalnex_structure_model.png\"\n",
    "viz.draw(filename)\n",
    "Image(filename)"
   ]
  },
  {
   "cell_type": "markdown",
   "metadata": {},
   "source": [
    "Well, causalnex didn't help much here. We see multiple wrong arrow directions here. This is expected, from the [F.A.Q.](https://causalnex.readthedocs.io/en/stable/05_resources/05_faq.html) we learn that the NOTEARS algorithm expects a continuous dataset to work properly:\n",
    "\n",
    "> \"NOTEARS works by detecting if a small increase in the value of the node will result in an increase in another node. If there is, NOTEARS will be able to capture this and assert that this is a causal relationship. Therefore, we highly recommend that the dataset to be used is continuous.\"\n",
    "\n",
    "We can help the algorithm by listing some Tabu edges"
   ]
  },
  {
   "cell_type": "markdown",
   "metadata": {},
   "source": [
    "# Incorporating domain knowledge \n",
    "We still miss several edges here. CausalNex allows us to incorporate domain knowledge to our StructuredModel"
   ]
  },
  {
   "cell_type": "code",
   "execution_count": 25,
   "metadata": {},
   "outputs": [],
   "source": [
    "sm = from_pandas(df_rnd, \n",
    "                 tabu_child_nodes=['age', 'sex', 'medication'], \n",
    "                 tabu_parent_nodes=['recovery'], \n",
    "                 tabu_edges=[('medication', 'severity'),\n",
    "                             ('sex', 'severity')])"
   ]
  },
  {
   "cell_type": "code",
   "execution_count": 26,
   "metadata": {},
   "outputs": [
    {
     "name": "stderr",
     "output_type": "stream",
     "text": [
      "/home/millengustavo/miniconda3/envs/causality/lib/python3.7/site-packages/pygraphviz/agraph.py:1341: RuntimeWarning: Warning: node 'sex', graph '' size too small for label\n",
      "Warning: node 'recovery', graph '' size too small for label\n",
      "Warning: node 'age', graph '' size too small for label\n",
      "Warning: node 'severity', graph '' size too small for label\n",
      "Warning: node 'medication', graph '' size too small for label\n",
      "\n",
      "  warnings.warn(b\"\".join(errors).decode(self.encoding), RuntimeWarning)\n"
     ]
    },
    {
     "data": {
      "image/png": "[encoded data removed]",
      "text/plain": [
       "<IPython.core.display.Image object>"
      ]
     },
     "execution_count": 26,
     "metadata": {},
     "output_type": "execute_result"
    }
   ],
   "source": [
    "# sm.remove_edges_below_threshold(0.01)\n",
    "viz = plot_structure(\n",
    "    sm,\n",
    "    graph_attributes={\"scale\": \"0.5\"},\n",
    "    all_node_attributes=NODE_STYLE.WEAK,\n",
    "    all_edge_attributes=EDGE_STYLE.WEAK)\n",
    "filename = \"./causalnex_structure_model.png\"\n",
    "viz.draw(filename)\n",
    "Image(filename)"
   ]
  },
  {
   "cell_type": "code",
   "execution_count": 27,
   "metadata": {},
   "outputs": [],
   "source": [
    "N = 10000\n",
    "df_rnd, df_obs, df_cf = make_confounded_data(N)"
   ]
  },
  {
   "cell_type": "markdown",
   "metadata": {},
   "source": [
    "# Discretising the data\n",
    "\n",
    "> Bayesian Networks in CausalNex support only discrete distributions. Any continuous features, or features with a large number of categories, should be discretised prior to fitting the Bayesian Network. Models containing variables with many possible values will typically be badly fit, and exhibit poor performance."
   ]
  },
  {
   "cell_type": "code",
   "execution_count": 28,
   "metadata": {},
   "outputs": [],
   "source": [
    "def make_discretised_data(data: pd.DataFrame) -> pd.DataFrame:\n",
    "    discretised_data = data.copy()\n",
    "    discretised_data[\"medication\"] = discretised_data[\"medication\"].astype(int)\n",
    "    discretised_data[\"age\"] = pd.qcut(discretised_data[\"age\"], \n",
    "                                  q=3,\n",
    "                                  labels=[\"young\", \"adult\", \"elder\"])\n",
    "    discretised_data[\"severity\"] = pd.qcut(discretised_data[\"severity\"], \n",
    "                                           q=3, \n",
    "                                           labels=[\"low-severity\", \"medium-severity\", \"high-severity\"])\n",
    "    discretised_data[\"recovery\"] = pd.qcut(discretised_data[\"recovery\"], \n",
    "                                           q=2, \n",
    "                                           labels=['fast-recovery', 'slow-recovery'])\n",
    "    \n",
    "    return discretised_data"
   ]
  },
  {
   "cell_type": "code",
   "execution_count": 30,
   "metadata": {},
   "outputs": [],
   "source": [
    "discretised_data_rnd = make_discretised_data(df_rnd)"
   ]
  },
  {
   "cell_type": "code",
   "execution_count": 32,
   "metadata": {},
   "outputs": [],
   "source": [
    "from causalnex.network import BayesianNetwork\n",
    "\n",
    "bn = BayesianNetwork(sm)"
   ]
  },
  {
   "cell_type": "code",
   "execution_count": 33,
   "metadata": {},
   "outputs": [],
   "source": [
    "from sklearn.model_selection import train_test_split\n",
    "\n",
    "train, test = train_test_split(discretised_data_rnd, train_size=0.9, test_size=0.1, random_state=42)"
   ]
  },
  {
   "cell_type": "code",
   "execution_count": 34,
   "metadata": {},
   "outputs": [],
   "source": [
    "bn = bn.fit_node_states(discretised_data_rnd)"
   ]
  },
  {
   "cell_type": "code",
   "execution_count": 35,
   "metadata": {},
   "outputs": [
    {
     "name": "stderr",
     "output_type": "stream",
     "text": [
      "/home/millengustavo/miniconda3/envs/causality/lib/python3.7/site-packages/pandas/core/generic.py:5069: FutureWarning: Attribute 'is_copy' is deprecated and will be removed in a future version.\n",
      "  object.__getattribute__(self, name)\n",
      "/home/millengustavo/miniconda3/envs/causality/lib/python3.7/site-packages/pandas/core/generic.py:5070: FutureWarning: Attribute 'is_copy' is deprecated and will be removed in a future version.\n",
      "  return object.__setattr__(self, name, value)\n"
     ]
    }
   ],
   "source": [
    "bn = bn.fit_cpds(train, method=\"BayesianEstimator\", bayes_prior=\"K2\")"
   ]
  },
  {
   "cell_type": "code",
   "execution_count": 36,
   "metadata": {},
   "outputs": [
    {
     "data": {
      "text/html": [
       "<div>\n",
       "<style scoped>\n",
       "    .dataframe tbody tr th:only-of-type {\n",
       "        vertical-align: middle;\n",
       "    }\n",
       "\n",
       "    .dataframe tbody tr th {\n",
       "        vertical-align: top;\n",
       "    }\n",
       "\n",
       "    .dataframe thead tr th {\n",
       "        text-align: left;\n",
       "    }\n",
       "\n",
       "    .dataframe thead tr:last-of-type th {\n",
       "        text-align: right;\n",
       "    }\n",
       "</style>\n",
       "<table border=\"1\" class=\"dataframe\">\n",
       "  <thead>\n",
       "    <tr>\n",
       "      <th>age</th>\n",
       "      <th colspan=\"12\" halign=\"left\">adult</th>\n",
       "      <th colspan=\"12\" halign=\"left\">elder</th>\n",
       "      <th colspan=\"12\" halign=\"left\">young</th>\n",
       "    </tr>\n",
       "    <tr>\n",
       "      <th>medication</th>\n",
       "      <th colspan=\"6\" halign=\"left\">0</th>\n",
       "      <th colspan=\"6\" halign=\"left\">1</th>\n",
       "      <th colspan=\"6\" halign=\"left\">0</th>\n",
       "      <th colspan=\"6\" halign=\"left\">1</th>\n",
       "      <th colspan=\"6\" halign=\"left\">0</th>\n",
       "      <th colspan=\"6\" halign=\"left\">1</th>\n",
       "    </tr>\n",
       "    <tr>\n",
       "      <th>severity</th>\n",
       "      <th colspan=\"2\" halign=\"left\">high-severity</th>\n",
       "      <th colspan=\"2\" halign=\"left\">low-severity</th>\n",
       "      <th colspan=\"2\" halign=\"left\">medium-severity</th>\n",
       "      <th colspan=\"2\" halign=\"left\">high-severity</th>\n",
       "      <th colspan=\"2\" halign=\"left\">low-severity</th>\n",
       "      <th colspan=\"2\" halign=\"left\">medium-severity</th>\n",
       "      <th colspan=\"2\" halign=\"left\">high-severity</th>\n",
       "      <th colspan=\"2\" halign=\"left\">low-severity</th>\n",
       "      <th colspan=\"2\" halign=\"left\">medium-severity</th>\n",
       "      <th colspan=\"2\" halign=\"left\">high-severity</th>\n",
       "      <th colspan=\"2\" halign=\"left\">low-severity</th>\n",
       "      <th colspan=\"2\" halign=\"left\">medium-severity</th>\n",
       "      <th colspan=\"2\" halign=\"left\">high-severity</th>\n",
       "      <th colspan=\"2\" halign=\"left\">low-severity</th>\n",
       "      <th colspan=\"2\" halign=\"left\">medium-severity</th>\n",
       "      <th colspan=\"2\" halign=\"left\">high-severity</th>\n",
       "      <th colspan=\"2\" halign=\"left\">low-severity</th>\n",
       "      <th colspan=\"2\" halign=\"left\">medium-severity</th>\n",
       "    </tr>\n",
       "    <tr>\n",
       "      <th>sex</th>\n",
       "      <th>0</th>\n",
       "      <th>1</th>\n",
       "      <th>0</th>\n",
       "      <th>1</th>\n",
       "      <th>0</th>\n",
       "      <th>1</th>\n",
       "      <th>0</th>\n",
       "      <th>1</th>\n",
       "      <th>0</th>\n",
       "      <th>1</th>\n",
       "      <th>0</th>\n",
       "      <th>1</th>\n",
       "      <th>0</th>\n",
       "      <th>1</th>\n",
       "      <th>0</th>\n",
       "      <th>1</th>\n",
       "      <th>0</th>\n",
       "      <th>1</th>\n",
       "      <th>0</th>\n",
       "      <th>1</th>\n",
       "      <th>0</th>\n",
       "      <th>1</th>\n",
       "      <th>0</th>\n",
       "      <th>1</th>\n",
       "      <th>0</th>\n",
       "      <th>1</th>\n",
       "      <th>0</th>\n",
       "      <th>1</th>\n",
       "      <th>0</th>\n",
       "      <th>1</th>\n",
       "      <th>0</th>\n",
       "      <th>1</th>\n",
       "      <th>0</th>\n",
       "      <th>1</th>\n",
       "      <th>0</th>\n",
       "      <th>1</th>\n",
       "    </tr>\n",
       "    <tr>\n",
       "      <th>recovery</th>\n",
       "      <th></th>\n",
       "      <th></th>\n",
       "      <th></th>\n",
       "      <th></th>\n",
       "      <th></th>\n",
       "      <th></th>\n",
       "      <th></th>\n",
       "      <th></th>\n",
       "      <th></th>\n",
       "      <th></th>\n",
       "      <th></th>\n",
       "      <th></th>\n",
       "      <th></th>\n",
       "      <th></th>\n",
       "      <th></th>\n",
       "      <th></th>\n",
       "      <th></th>\n",
       "      <th></th>\n",
       "      <th></th>\n",
       "      <th></th>\n",
       "      <th></th>\n",
       "      <th></th>\n",
       "      <th></th>\n",
       "      <th></th>\n",
       "      <th></th>\n",
       "      <th></th>\n",
       "      <th></th>\n",
       "      <th></th>\n",
       "      <th></th>\n",
       "      <th></th>\n",
       "      <th></th>\n",
       "      <th></th>\n",
       "      <th></th>\n",
       "      <th></th>\n",
       "      <th></th>\n",
       "      <th></th>\n",
       "    </tr>\n",
       "  </thead>\n",
       "  <tbody>\n",
       "    <tr>\n",
       "      <th>fast-recovery</th>\n",
       "      <td>0.007326</td>\n",
       "      <td>0.003484</td>\n",
       "      <td>0.756303</td>\n",
       "      <td>0.123711</td>\n",
       "      <td>0.211155</td>\n",
       "      <td>0.003759</td>\n",
       "      <td>0.937008</td>\n",
       "      <td>0.346535</td>\n",
       "      <td>0.995575</td>\n",
       "      <td>0.983122</td>\n",
       "      <td>0.996</td>\n",
       "      <td>0.874477</td>\n",
       "      <td>0.002257</td>\n",
       "      <td>0.002049</td>\n",
       "      <td>0.047619</td>\n",
       "      <td>0.03125</td>\n",
       "      <td>0.01083</td>\n",
       "      <td>0.00369</td>\n",
       "      <td>0.581731</td>\n",
       "      <td>0.071599</td>\n",
       "      <td>0.965517</td>\n",
       "      <td>0.605263</td>\n",
       "      <td>0.881579</td>\n",
       "      <td>0.386617</td>\n",
       "      <td>0.153846</td>\n",
       "      <td>0.028571</td>\n",
       "      <td>0.952191</td>\n",
       "      <td>0.428875</td>\n",
       "      <td>0.705882</td>\n",
       "      <td>0.089623</td>\n",
       "      <td>0.971429</td>\n",
       "      <td>0.897436</td>\n",
       "      <td>0.998054</td>\n",
       "      <td>0.99789</td>\n",
       "      <td>0.99569</td>\n",
       "      <td>0.991031</td>\n",
       "    </tr>\n",
       "    <tr>\n",
       "      <th>slow-recovery</th>\n",
       "      <td>0.992674</td>\n",
       "      <td>0.996516</td>\n",
       "      <td>0.243697</td>\n",
       "      <td>0.876289</td>\n",
       "      <td>0.788845</td>\n",
       "      <td>0.996241</td>\n",
       "      <td>0.062992</td>\n",
       "      <td>0.653465</td>\n",
       "      <td>0.004425</td>\n",
       "      <td>0.016878</td>\n",
       "      <td>0.004</td>\n",
       "      <td>0.125523</td>\n",
       "      <td>0.997743</td>\n",
       "      <td>0.997951</td>\n",
       "      <td>0.952381</td>\n",
       "      <td>0.96875</td>\n",
       "      <td>0.98917</td>\n",
       "      <td>0.99631</td>\n",
       "      <td>0.418269</td>\n",
       "      <td>0.928401</td>\n",
       "      <td>0.034483</td>\n",
       "      <td>0.394737</td>\n",
       "      <td>0.118421</td>\n",
       "      <td>0.613383</td>\n",
       "      <td>0.846154</td>\n",
       "      <td>0.971429</td>\n",
       "      <td>0.047809</td>\n",
       "      <td>0.571125</td>\n",
       "      <td>0.294118</td>\n",
       "      <td>0.910377</td>\n",
       "      <td>0.028571</td>\n",
       "      <td>0.102564</td>\n",
       "      <td>0.001946</td>\n",
       "      <td>0.00211</td>\n",
       "      <td>0.00431</td>\n",
       "      <td>0.008969</td>\n",
       "    </tr>\n",
       "  </tbody>\n",
       "</table>\n",
       "</div>"
      ],
      "text/plain": [
       "age                   adult                                                   \\\n",
       "medication                0                                                    \n",
       "severity      high-severity           low-severity           medium-severity   \n",
       "sex                       0         1            0         1               0   \n",
       "recovery                                                                       \n",
       "fast-recovery      0.007326  0.003484     0.756303  0.123711        0.211155   \n",
       "slow-recovery      0.992674  0.996516     0.243697  0.876289        0.788845   \n",
       "\n",
       "age                                                                     \\\n",
       "medication                          1                                    \n",
       "severity                high-severity           low-severity             \n",
       "sex                   1             0         1            0         1   \n",
       "recovery                                                                 \n",
       "fast-recovery  0.003759      0.937008  0.346535     0.995575  0.983122   \n",
       "slow-recovery  0.996241      0.062992  0.653465     0.004425  0.016878   \n",
       "\n",
       "age                                             elder                         \\\n",
       "medication                                          0                          \n",
       "severity      medium-severity           high-severity           low-severity   \n",
       "sex                         0         1             0         1            0   \n",
       "recovery                                                                       \n",
       "fast-recovery           0.996  0.874477      0.002257  0.002049     0.047619   \n",
       "slow-recovery           0.004  0.125523      0.997743  0.997951     0.952381   \n",
       "\n",
       "age                                                                      \\\n",
       "medication                                                  1             \n",
       "severity               medium-severity          high-severity             \n",
       "sex                  1               0        1             0         1   \n",
       "recovery                                                                  \n",
       "fast-recovery  0.03125         0.01083  0.00369      0.581731  0.071599   \n",
       "slow-recovery  0.96875         0.98917  0.99631      0.418269  0.928401   \n",
       "\n",
       "age                                                                    young  \\\n",
       "medication                                                                 0   \n",
       "severity      low-severity           medium-severity           high-severity   \n",
       "sex                      0         1               0         1             0   \n",
       "recovery                                                                       \n",
       "fast-recovery     0.965517  0.605263        0.881579  0.386617      0.153846   \n",
       "slow-recovery     0.034483  0.394737        0.118421  0.613383      0.846154   \n",
       "\n",
       "age                                                                       \\\n",
       "medication                                                                 \n",
       "severity                low-severity           medium-severity             \n",
       "sex                   1            0         1               0         1   \n",
       "recovery                                                                   \n",
       "fast-recovery  0.028571     0.952191  0.428875        0.705882  0.089623   \n",
       "slow-recovery  0.971429     0.047809  0.571125        0.294118  0.910377   \n",
       "\n",
       "age                                                                          \\\n",
       "medication                1                                                   \n",
       "severity      high-severity           low-severity          medium-severity   \n",
       "sex                       0         1            0        1               0   \n",
       "recovery                                                                      \n",
       "fast-recovery      0.971429  0.897436     0.998054  0.99789         0.99569   \n",
       "slow-recovery      0.028571  0.102564     0.001946  0.00211         0.00431   \n",
       "\n",
       "age                      \n",
       "medication               \n",
       "severity                 \n",
       "sex                   1  \n",
       "recovery                 \n",
       "fast-recovery  0.991031  \n",
       "slow-recovery  0.008969  "
      ]
     },
     "execution_count": 36,
     "metadata": {},
     "output_type": "execute_result"
    }
   ],
   "source": [
    "bn.cpds[\"recovery\"]"
   ]
  },
  {
   "cell_type": "code",
   "execution_count": 37,
   "metadata": {},
   "outputs": [
    {
     "name": "stdout",
     "output_type": "stream",
     "text": [
      "0.9645870000000001\n"
     ]
    }
   ],
   "source": [
    "from causalnex.evaluation import roc_auc\n",
    "roc, auc = roc_auc(bn, test, \"recovery\")\n",
    "print(auc)"
   ]
  },
  {
   "cell_type": "code",
   "execution_count": 38,
   "metadata": {},
   "outputs": [
    {
     "name": "stderr",
     "output_type": "stream",
     "text": [
      "WARNING:root:Replacing existing CPD for sex\n",
      "WARNING:root:Replacing existing CPD for recovery\n",
      "WARNING:root:Replacing existing CPD for age\n",
      "WARNING:root:Replacing existing CPD for severity\n",
      "WARNING:root:Replacing existing CPD for medication\n"
     ]
    }
   ],
   "source": [
    "bn = bn.fit_cpds(discretised_data_rnd, method=\"BayesianEstimator\", bayes_prior=\"K2\")"
   ]
  },
  {
   "cell_type": "code",
   "execution_count": 41,
   "metadata": {},
   "outputs": [
    {
     "data": {
      "text/plain": [
       "{'fast-recovery': 0.5007351469145527, 'slow-recovery': 0.49926485308544705}"
      ]
     },
     "execution_count": 41,
     "metadata": {},
     "output_type": "execute_result"
    }
   ],
   "source": [
    "from causalnex.inference import InferenceEngine\n",
    "\n",
    "ie = InferenceEngine(bn)\n",
    "marginals = ie.query()\n",
    "marginals[\"recovery\"]"
   ]
  },
  {
   "cell_type": "code",
   "execution_count": 42,
   "metadata": {},
   "outputs": [
    {
     "data": {
      "text/plain": [
       "[('fast-recovery', 5108), ('slow-recovery', 4892)]"
      ]
     },
     "execution_count": 42,
     "metadata": {},
     "output_type": "execute_result"
    }
   ],
   "source": [
    "import numpy as np\n",
    "labels, counts = np.unique(discretised_data_rnd[\"recovery\"], return_counts=True)\n",
    "list(zip(labels, counts))"
   ]
  },
  {
   "cell_type": "code",
   "execution_count": 43,
   "metadata": {},
   "outputs": [
    {
     "name": "stdout",
     "output_type": "stream",
     "text": [
      "Marginal recovery | Medication {'fast-recovery': 0.805343029756816, 'slow-recovery': 0.19465697024318399}\n",
      "Marginal recovery | No-Medication {'fast-recovery': 0.19855393511664146, 'slow-recovery': 0.8014460648833586}\n"
     ]
    }
   ],
   "source": [
    "marginals_short = ie.query({\"medication\": 1})\n",
    "marginals_long = ie.query({\"medication\": 0})\n",
    "print(\"Marginal recovery | Medication\", marginals_short[\"recovery\"])\n",
    "print(\"Marginal recovery | No-Medication\", marginals_long[\"recovery\"])"
   ]
  },
  {
   "cell_type": "markdown",
   "metadata": {},
   "source": [
    "# What if we look only at sex = 1?"
   ]
  },
  {
   "cell_type": "code",
   "execution_count": 44,
   "metadata": {},
   "outputs": [
    {
     "name": "stdout",
     "output_type": "stream",
     "text": [
      "marginal recovery {'fast-recovery': 0.5007351469145527, 'slow-recovery': 0.49926485308544705}\n",
      "updated marginal recovery {'fast-recovery': 0.3791686332072646, 'slow-recovery': 0.6208313667927353}\n"
     ]
    }
   ],
   "source": [
    "print(\"marginal recovery\", ie.query()[\"recovery\"])\n",
    "ie.do_intervention(\n",
    "    \"sex\",\n",
    "    {\n",
    "        0: 0.0,\n",
    "        1: 1.0\n",
    "    },\n",
    ")\n",
    "print(\"updated marginal recovery\", ie.query()[\"recovery\"])"
   ]
  },
  {
   "cell_type": "code",
   "execution_count": 45,
   "metadata": {},
   "outputs": [],
   "source": [
    "ie.reset_do(\"sex\")"
   ]
  },
  {
   "cell_type": "markdown",
   "metadata": {},
   "source": [
    "# Let's investigate the observational data now"
   ]
  },
  {
   "cell_type": "code",
   "execution_count": 46,
   "metadata": {},
   "outputs": [],
   "source": [
    "discretised_data_obs = make_discretised_data(df_obs)"
   ]
  },
  {
   "cell_type": "code",
   "execution_count": 47,
   "metadata": {},
   "outputs": [],
   "source": [
    "from causalnex.network import BayesianNetwork\n",
    "\n",
    "bn = BayesianNetwork(sm)"
   ]
  },
  {
   "cell_type": "code",
   "execution_count": 48,
   "metadata": {},
   "outputs": [],
   "source": [
    "bn = bn.fit_node_states(discretised_data_obs)"
   ]
  },
  {
   "cell_type": "code",
   "execution_count": 49,
   "metadata": {},
   "outputs": [],
   "source": [
    "from sklearn.model_selection import train_test_split\n",
    "\n",
    "train, test = train_test_split(discretised_data_obs, train_size=0.9, test_size=0.1, random_state=42)"
   ]
  },
  {
   "cell_type": "code",
   "execution_count": 50,
   "metadata": {},
   "outputs": [],
   "source": [
    "bn = bn.fit_cpds(discretised_data_obs, method=\"BayesianEstimator\", bayes_prior=\"K2\")"
   ]
  },
  {
   "cell_type": "code",
   "execution_count": 51,
   "metadata": {},
   "outputs": [
    {
     "name": "stdout",
     "output_type": "stream",
     "text": [
      "0.904601\n"
     ]
    }
   ],
   "source": [
    "from causalnex.evaluation import roc_auc\n",
    "roc, auc = roc_auc(bn, test, \"recovery\")\n",
    "print(auc)"
   ]
  },
  {
   "cell_type": "code",
   "execution_count": 52,
   "metadata": {},
   "outputs": [
    {
     "data": {
      "text/plain": [
       "{'fast-recovery': 0.5211113797990666, 'slow-recovery': 0.4788886202009333}"
      ]
     },
     "execution_count": 52,
     "metadata": {},
     "output_type": "execute_result"
    }
   ],
   "source": [
    "from causalnex.inference import InferenceEngine\n",
    "\n",
    "ie = InferenceEngine(bn)\n",
    "marginals = ie.query()\n",
    "marginals[\"recovery\"]"
   ]
  },
  {
   "cell_type": "code",
   "execution_count": 53,
   "metadata": {},
   "outputs": [
    {
     "data": {
      "text/plain": [
       "[('fast-recovery', 5314), ('slow-recovery', 4686)]"
      ]
     },
     "execution_count": 53,
     "metadata": {},
     "output_type": "execute_result"
    }
   ],
   "source": [
    "import numpy as np\n",
    "labels, counts = np.unique(discretised_data_obs[\"recovery\"], return_counts=True)\n",
    "list(zip(labels, counts))"
   ]
  },
  {
   "cell_type": "code",
   "execution_count": 54,
   "metadata": {},
   "outputs": [
    {
     "name": "stdout",
     "output_type": "stream",
     "text": [
      "Marginal recovery | Medication {'fast-recovery': 0.7081887807396127, 'slow-recovery': 0.29181121926038744}\n",
      "Marginal recovery | No-Medication {'fast-recovery': 0.29937336360888517, 'slow-recovery': 0.7006266363911148}\n"
     ]
    }
   ],
   "source": [
    "marginals_short = ie.query({\"medication\": 1})\n",
    "marginals_long = ie.query({\"medication\": 0})\n",
    "print(\"Marginal recovery | Medication\", marginals_short[\"recovery\"])\n",
    "print(\"Marginal recovery | No-Medication\", marginals_long[\"recovery\"])"
   ]
  },
  {
   "cell_type": "code",
   "execution_count": 55,
   "metadata": {},
   "outputs": [
    {
     "name": "stdout",
     "output_type": "stream",
     "text": [
      "marginal recovery {'fast-recovery': 0.5211113797990666, 'slow-recovery': 0.4788886202009333}\n",
      "updated marginal recovery {'fast-recovery': 0.7081887807396124, 'slow-recovery': 0.2918112192603875}\n"
     ]
    }
   ],
   "source": [
    "print(\"marginal recovery\", ie.query()[\"recovery\"])\n",
    "ie.do_intervention(\"medication\",\n",
    "                   {0: 0.0,\n",
    "                    1 : 1.0})\n",
    "print(\"updated marginal recovery\", ie.query()[\"recovery\"])"
   ]
  },
  {
   "cell_type": "code",
   "execution_count": 56,
   "metadata": {},
   "outputs": [],
   "source": [
    "ie.reset_do(\"medication\")"
   ]
  },
  {
   "cell_type": "code",
   "execution_count": 57,
   "metadata": {},
   "outputs": [
    {
     "name": "stdout",
     "output_type": "stream",
     "text": [
      "marginal recovery {'fast-recovery': 0.5211113797990666, 'slow-recovery': 0.4788886202009333}\n",
      "updated marginal recovery {'fast-recovery': 0.6611684864413222, 'slow-recovery': 0.3388315135586777}\n"
     ]
    }
   ],
   "source": [
    "print(\"marginal recovery\", ie.query()[\"recovery\"])\n",
    "ie.do_intervention(\n",
    "    \"sex\",\n",
    "    {\n",
    "        0: 0.0,\n",
    "        1: 1.0\n",
    "    },\n",
    ")\n",
    "ie.do_intervention(\"medication\",\n",
    "                   {0: 0.0,\n",
    "                    1 : 1.0})\n",
    "print(\"updated marginal recovery\", ie.query()[\"recovery\"])"
   ]
  },
  {
   "cell_type": "code",
   "execution_count": 58,
   "metadata": {},
   "outputs": [],
   "source": [
    "ie.reset_do(\"sex\")\n",
    "ie.reset_do(\"medication\")"
   ]
  },
  {
   "cell_type": "code",
   "execution_count": 59,
   "metadata": {},
   "outputs": [
    {
     "data": {
      "text/plain": [
       "{'sex': {0: 0.5033993201359727, 1: 0.4966006798640271},\n",
       " 'recovery': {'fast-recovery': 0.5211113797990666,\n",
       "  'slow-recovery': 0.4788886202009333},\n",
       " 'age': {'adult': 0.3333000099970009,\n",
       "  'elder': 0.3333000099970009,\n",
       "  'young': 0.3333999800059982},\n",
       " 'severity': {'high-severity': 0.3333333333333333,\n",
       "  'low-severity': 0.33333333333333326,\n",
       "  'medium-severity': 0.3333333333333333},\n",
       " 'medication': {0: 0.4576084783043391, 1: 0.5423915216956606}}"
      ]
     },
     "execution_count": 59,
     "metadata": {},
     "output_type": "execute_result"
    }
   ],
   "source": [
    "marginals"
   ]
  },
  {
   "cell_type": "markdown",
   "metadata": {},
   "source": [
    "As we saw, there are some drawbacks from using Bayesian networks\n",
    "\n",
    "## Drawbacks\n",
    "- Granularity of modelling may have to be lower. However, this may either not be necessary, or can be run in tangent to other techniques that provide accuracy but are less interpretable;\n",
    "- Computational complexity is higher. However, this can be offset with careful feature selection and a less granular discretisation policy, but at the expense of predictive power;"
   ]
  },
  {
   "cell_type": "markdown",
   "metadata": {},
   "source": [
    "# Do-Why\n",
    "\n",
    "> DoWhy provides a unified interface for causal inference methods and automatically tests many assumptions, thus making inference accessible to non-experts.\n",
    "\n",
    "1. Provides a principled way of modeling a given problem as a causal graph so that all assumptions are explicit.\n",
    "2. Provides a unified interface for many popular causal inference methods, combining the two major frameworks of graphical models and potential outcomes.\n",
    "3. Automatically tests for the validity of assumptions if possible and assesses the robustness of the estimate to violations."
   ]
  },
  {
   "cell_type": "code",
   "execution_count": 92,
   "metadata": {},
   "outputs": [],
   "source": [
    "from dowhy import CausalModel"
   ]
  },
  {
   "cell_type": "code",
   "execution_count": 93,
   "metadata": {},
   "outputs": [],
   "source": [
    "N = 1000000\n",
    "df_rnd, df_obs, df_cf = make_confounded_data(N)"
   ]
  },
  {
   "cell_type": "markdown",
   "metadata": {},
   "source": [
    "int -> 'c'\n",
    "\n",
    "float -> 'c'\n",
    "\n",
    "binary -> 'b'\n",
    "\n",
    "category -> 'd'"
   ]
  },
  {
   "cell_type": "code",
   "execution_count": 94,
   "metadata": {},
   "outputs": [],
   "source": [
    "df_rnd['medication'] = df_rnd['medication'].astype(bool)\n",
    "df_obs['medication'] = df_obs['medication'].astype(bool)"
   ]
  },
  {
   "cell_type": "code",
   "execution_count": 107,
   "metadata": {
    "scrolled": true
   },
   "outputs": [
    {
     "name": "stderr",
     "output_type": "stream",
     "text": [
      "ERROR:dowhy.causal_graph:Error: Pygraphviz cannot be loaded. generator raised StopIteration\n",
      "Trying pydot ...\n",
      "INFO:dowhy.causal_graph:If this is observed data (not from a randomized experiment), there might always be missing confounders. Adding a node named \"Unobserved Confounders\" to reflect this.\n",
      "INFO:dowhy.causal_model:Model to find the causal effect of treatment ['medication'] on outcome ['recovery']\n",
      "INFO:dowhy.causal_identifier:Common causes of treatment and outcome:['age', 'severity', 'sex', 'U']\n",
      "WARNING:dowhy.causal_identifier:If this is observed data (not from a randomized experiment), there might always be missing confounders. Causal effect cannot be identified perfectly.\n",
      "INFO:dowhy.causal_identifier:Continuing by ignoring these unobserved confounders because proceed_when_unidentifiable flag is True.\n",
      "INFO:dowhy.causal_identifier:Instrumental variables for treatment and outcome:[]\n",
      "INFO:dowhy.causal_estimator:INFO: Using Linear Regression Estimator\n",
      "INFO:dowhy.causal_estimator:b: recovery~medication+age+severity+sex\n"
     ]
    },
    {
     "name": "stdout",
     "output_type": "stream",
     "text": [
      "                            OLS Regression Results                            \n",
      "==============================================================================\n",
      "Dep. Variable:               recovery   R-squared:                       0.759\n",
      "Model:                            OLS   Adj. R-squared:                  0.759\n",
      "Method:                 Least Squares   F-statistic:                 7.894e+05\n",
      "Date:                Sat, 23 May 2020   Prob (F-statistic):               0.00\n",
      "Time:                        09:17:05   Log-Likelihood:            -3.2899e+06\n",
      "No. Observations:             1000000   AIC:                         6.580e+06\n",
      "Df Residuals:                  999995   BIC:                         6.580e+06\n",
      "Df Model:                           4                                         \n",
      "Covariance Type:            nonrobust                                         \n",
      "==============================================================================\n",
      "                 coef    std err          t      P>|t|      [0.025      0.975]\n",
      "------------------------------------------------------------------------------\n",
      "const         -6.4298      0.021   -303.019      0.000      -6.471      -6.388\n",
      "x1           -25.0197      0.023  -1096.140      0.000     -25.064     -24.975\n",
      "x2             0.8887      0.001   1278.031      0.000       0.887       0.890\n",
      "x3            22.6886      0.041    550.171      0.000      22.608      22.769\n",
      "x4            12.4433      0.014    897.347      0.000      12.416      12.470\n",
      "==============================================================================\n",
      "Omnibus:                   618123.888   Durbin-Watson:                   2.000\n",
      "Prob(Omnibus):                  0.000   Jarque-Bera (JB):         42107738.009\n",
      "Skew:                           2.221   Prob(JB):                         0.00\n",
      "Kurtosis:                      34.478   Cond. No.                         238.\n",
      "==============================================================================\n",
      "\n",
      "Warnings:\n",
      "[1] Standard Errors assume that the covariance matrix of the errors is correctly specified.\n"
     ]
    },
    {
     "name": "stderr",
     "output_type": "stream",
     "text": [
      "INFO:dowhy.causal_estimator:INFO: Using Linear Regression Estimator\n",
      "INFO:dowhy.causal_estimator:b: recovery~medication+age+severity+sex+w_random\n"
     ]
    },
    {
     "name": "stdout",
     "output_type": "stream",
     "text": [
      "                            OLS Regression Results                            \n",
      "==============================================================================\n",
      "Dep. Variable:               recovery   R-squared:                       0.759\n",
      "Model:                            OLS   Adj. R-squared:                  0.759\n",
      "Method:                 Least Squares   F-statistic:                 6.315e+05\n",
      "Date:                Sat, 23 May 2020   Prob (F-statistic):               0.00\n",
      "Time:                        09:17:07   Log-Likelihood:            -3.2899e+06\n",
      "No. Observations:             1000000   AIC:                         6.580e+06\n",
      "Df Residuals:                  999994   BIC:                         6.580e+06\n",
      "Df Model:                           5                                         \n",
      "Covariance Type:            nonrobust                                         \n",
      "==============================================================================\n",
      "                 coef    std err          t      P>|t|      [0.025      0.975]\n",
      "------------------------------------------------------------------------------\n",
      "const         -6.4298      0.021   -303.018      0.000      -6.471      -6.388\n",
      "x1           -25.0197      0.023  -1096.139      0.000     -25.064     -24.975\n",
      "x2             0.8887      0.001   1278.031      0.000       0.887       0.890\n",
      "x3            22.6886      0.041    550.170      0.000      22.608      22.769\n",
      "x4            12.4433      0.014    897.347      0.000      12.416      12.470\n",
      "x5            -0.0067      0.006     -1.027      0.304      -0.019       0.006\n",
      "==============================================================================\n",
      "Omnibus:                   618127.187   Durbin-Watson:                   2.000\n",
      "Prob(Omnibus):                  0.000   Jarque-Bera (JB):         42109414.152\n",
      "Skew:                           2.221   Prob(JB):                         0.00\n",
      "Kurtosis:                      34.478   Cond. No.                         238.\n",
      "==============================================================================\n",
      "\n",
      "Warnings:\n",
      "[1] Standard Errors assume that the covariance matrix of the errors is correctly specified.\n"
     ]
    }
   ],
   "source": [
    "# Create a causal model from the data and given graph.\n",
    "model = CausalModel(\n",
    "    data=df_obs,\n",
    "    treatment=\"medication\",\n",
    "    outcome=\"recovery\",\n",
    "    graph=\"digraph {medication -> recovery; sex -> recovery; severity -> recovery; sex -> medication; severity -> medication; age -> severity; age -> recovery}\",\n",
    "    variable_types={\n",
    "        \"medication\": \"b\",\n",
    "        \"recovery\": \"c\",\n",
    "        \"sex\": \"b\",\n",
    "        \"severity\": \"c\",\n",
    "        \"age\": \"c\",\n",
    "    },\n",
    ")\n",
    "\n",
    "# Identify causal effect and return target estimands\n",
    "identified_estimand = model.identify_effect(proceed_when_unidentifiable=True)\n",
    "\n",
    "# Estimate the target estimand using a statistical method.\n",
    "estimate = model.estimate_effect(\n",
    "    identified_estimand,\n",
    "    control_value=0,\n",
    "    treatment_value=1,\n",
    "    test_significance=True,\n",
    "    method_name=\"backdoor.linear_regression\",\n",
    ")\n",
    "\n",
    "# Refute the obtained estimate using multiple robustness checks.\n",
    "refute_results = model.refute_estimate(\n",
    "    identified_estimand, estimate, method_name=\"random_common_cause\"\n",
    ")"
   ]
  },
  {
   "cell_type": "code",
   "execution_count": 108,
   "metadata": {},
   "outputs": [
    {
     "data": {
      "image/png": "[encoded data removed]",
      "text/plain": [
       "<IPython.core.display.Image object>"
      ]
     },
     "metadata": {},
     "output_type": "display_data"
    }
   ],
   "source": [
    "from IPython.display import Image, display\n",
    "\n",
    "model.view_model(layout=\"dot\")\n",
    "display(Image(filename=\"causal_model.png\"))"
   ]
  },
  {
   "cell_type": "code",
   "execution_count": 109,
   "metadata": {},
   "outputs": [
    {
     "name": "stdout",
     "output_type": "stream",
     "text": [
      "*** Causal Estimate ***\n",
      "\n",
      "## Identified estimand\n",
      "Estimand type: nonparametric-ate\n",
      "### Estimand : 1\n",
      "Estimand name: backdoor\n",
      "Estimand expression:\n",
      "      d                                              \n",
      "─────────────(Expectation(recovery|age,severity,sex))\n",
      "d[medication]                                        \n",
      "Estimand assumption 1, Unconfoundedness: If U→{medication} and U→recovery then P(recovery|medication,age,severity,sex,U) = P(recovery|medication,age,severity,sex)\n",
      "### Estimand : 2\n",
      "Estimand name: iv\n",
      "No such variable found!\n",
      "\n",
      "## Realized estimand\n",
      "b: recovery~medication+age+severity+sex\n",
      "Target units: ate\n",
      "\n",
      "## Estimate\n",
      "Mean value: -25.019703139251842\n",
      "p-value: [0.]\n",
      "\n"
     ]
    }
   ],
   "source": [
    "print(estimate)"
   ]
  },
  {
   "cell_type": "code",
   "execution_count": 110,
   "metadata": {},
   "outputs": [
    {
     "name": "stdout",
     "output_type": "stream",
     "text": [
      "Refute: Add a Random Common Cause\n",
      "Estimated effect:-25.019703139251842\n",
      "New effect:-25.019682777607045\n",
      "\n"
     ]
    }
   ],
   "source": [
    "print(refute_results)"
   ]
  },
  {
   "cell_type": "code",
   "execution_count": 99,
   "metadata": {},
   "outputs": [
    {
     "name": "stderr",
     "output_type": "stream",
     "text": [
      "ERROR:dowhy.causal_graph:Error: Pygraphviz cannot be loaded. generator raised StopIteration\n",
      "Trying pydot ...\n",
      "INFO:dowhy.causal_graph:If this is observed data (not from a randomized experiment), there might always be missing confounders. Adding a node named \"Unobserved Confounders\" to reflect this.\n",
      "INFO:dowhy.causal_model:Model to find the causal effect of treatment ['medication'] on outcome ['recovery']\n",
      "INFO:dowhy.causal_identifier:Common causes of treatment and outcome:['U']\n",
      "WARNING:dowhy.causal_identifier:If this is observed data (not from a randomized experiment), there might always be missing confounders. Causal effect cannot be identified perfectly.\n",
      "INFO:dowhy.causal_identifier:Continuing by ignoring these unobserved confounders because proceed_when_unidentifiable flag is True.\n",
      "INFO:dowhy.causal_identifier:Instrumental variables for treatment and outcome:[]\n",
      "INFO:dowhy.causal_estimator:INFO: Using Linear Regression Estimator\n",
      "INFO:dowhy.causal_estimator:b: recovery~medication+medication*age+medication*severity+medication*sex\n"
     ]
    },
    {
     "name": "stdout",
     "output_type": "stream",
     "text": [
      "                            OLS Regression Results                            \n",
      "==============================================================================\n",
      "Dep. Variable:               recovery   R-squared:                       0.346\n",
      "Model:                            OLS   Adj. R-squared:                  0.346\n",
      "Method:                 Least Squares   F-statistic:                 1.323e+05\n",
      "Date:                Sat, 23 May 2020   Prob (F-statistic):               0.00\n",
      "Time:                        09:16:10   Log-Likelihood:            -4.5663e+06\n",
      "No. Observations:             1000000   AIC:                         9.133e+06\n",
      "Df Residuals:                  999995   BIC:                         9.133e+06\n",
      "Df Model:                           4                                         \n",
      "Covariance Type:            nonrobust                                         \n",
      "==============================================================================\n",
      "                 coef    std err          t      P>|t|      [0.025      0.975]\n",
      "------------------------------------------------------------------------------\n",
      "const         47.7664      0.033   1452.227      0.000      47.702      47.831\n",
      "x1           -61.3092      0.109   -561.493      0.000     -61.523     -61.095\n",
      "x2             0.6366      0.004    180.732      0.000       0.630       0.644\n",
      "x3            13.7363      0.139     98.741      0.000      13.464      14.009\n",
      "x4             8.6236      0.066    130.900      0.000       8.495       8.753\n",
      "==============================================================================\n",
      "Omnibus:                   637468.745   Durbin-Watson:                   2.003\n",
      "Prob(Omnibus):                  0.000   Jarque-Bera (JB):         16626354.577\n",
      "Skew:                           2.652   Prob(JB):                         0.00\n",
      "Kurtosis:                      22.259   Cond. No.                         144.\n",
      "==============================================================================\n",
      "\n",
      "Warnings:\n",
      "[1] Standard Errors assume that the covariance matrix of the errors is correctly specified.\n"
     ]
    },
    {
     "name": "stderr",
     "output_type": "stream",
     "text": [
      "INFO:dowhy.causal_estimator:INFO: Using Linear Regression Estimator\n",
      "INFO:dowhy.causal_estimator:b: recovery~medication+w_random+medication*age+medication*severity+medication*sex\n"
     ]
    },
    {
     "name": "stdout",
     "output_type": "stream",
     "text": [
      "                            OLS Regression Results                            \n",
      "==============================================================================\n",
      "Dep. Variable:               recovery   R-squared:                       0.346\n",
      "Model:                            OLS   Adj. R-squared:                  0.346\n",
      "Method:                 Least Squares   F-statistic:                 1.058e+05\n",
      "Date:                Sat, 23 May 2020   Prob (F-statistic):               0.00\n",
      "Time:                        09:16:12   Log-Likelihood:            -4.5663e+06\n",
      "No. Observations:             1000000   AIC:                         9.133e+06\n",
      "Df Residuals:                  999994   BIC:                         9.133e+06\n",
      "Df Model:                           5                                         \n",
      "Covariance Type:            nonrobust                                         \n",
      "==============================================================================\n",
      "                 coef    std err          t      P>|t|      [0.025      0.975]\n",
      "------------------------------------------------------------------------------\n",
      "const         47.7665      0.033   1452.228      0.000      47.702      47.831\n",
      "x1           -61.3091      0.109   -561.492      0.000     -61.523     -61.095\n",
      "x2            -0.0322      0.023     -1.383      0.167      -0.078       0.013\n",
      "x3             0.6366      0.004    180.730      0.000       0.630       0.644\n",
      "x4            13.7365      0.139     98.743      0.000      13.464      14.009\n",
      "x5             8.6237      0.066    130.900      0.000       8.495       8.753\n",
      "==============================================================================\n",
      "Omnibus:                   637469.684   Durbin-Watson:                   2.003\n",
      "Prob(Omnibus):                  0.000   Jarque-Bera (JB):         16626694.080\n",
      "Skew:                           2.652   Prob(JB):                         0.00\n",
      "Kurtosis:                      22.259   Cond. No.                         144.\n",
      "==============================================================================\n",
      "\n",
      "Warnings:\n",
      "[1] Standard Errors assume that the covariance matrix of the errors is correctly specified.\n"
     ]
    }
   ],
   "source": [
    "# Create a causal model from the data and given graph.\n",
    "model = CausalModel(\n",
    "    data=df_rnd,\n",
    "    treatment=\"medication\",\n",
    "    outcome=\"recovery\",\n",
    "    graph=\"digraph {medication -> recovery; sex -> recovery; severity -> recovery; age -> severity; age -> recovery}\",\n",
    "    variable_types={\n",
    "        \"medication\": \"b\",\n",
    "        \"recovery\": \"c\",\n",
    "        \"sex\": \"b\",\n",
    "        \"severity\": \"c\",\n",
    "        \"age\": \"c\",\n",
    "    },\n",
    ")\n",
    "\n",
    "# Identify causal effect and return target estimands\n",
    "identified_estimand = model.identify_effect(proceed_when_unidentifiable=True)\n",
    "\n",
    "# Estimate the target estimand using a statistical method.\n",
    "estimate = model.estimate_effect(\n",
    "    identified_estimand,\n",
    "    control_value=0,\n",
    "    treatment_value=1,\n",
    "    test_significance=True,\n",
    "    method_name=\"backdoor.linear_regression\",\n",
    ")\n",
    "\n",
    "# Refute the obtained estimate using multiple robustness checks.\n",
    "refute_results = model.refute_estimate(\n",
    "    identified_estimand, estimate, method_name=\"random_common_cause\"\n",
    ")"
   ]
  },
  {
   "cell_type": "code",
   "execution_count": 100,
   "metadata": {},
   "outputs": [
    {
     "data": {
      "image/png": "[encoded data removed]",
      "text/plain": [
       "<IPython.core.display.Image object>"
      ]
     },
     "metadata": {},
     "output_type": "display_data"
    }
   ],
   "source": [
    "from IPython.display import Image, display\n",
    "\n",
    "model.view_model(layout=\"dot\")\n",
    "display(Image(filename=\"causal_model.png\"))"
   ]
  },
  {
   "cell_type": "code",
   "execution_count": 101,
   "metadata": {},
   "outputs": [
    {
     "name": "stdout",
     "output_type": "stream",
     "text": [
      "*** Causal Estimate ***\n",
      "\n",
      "## Identified estimand\n",
      "Estimand type: nonparametric-ate\n",
      "### Estimand : 1\n",
      "Estimand name: backdoor\n",
      "Estimand expression:\n",
      "      d                             \n",
      "─────────────(Expectation(recovery))\n",
      "d[medication]                       \n",
      "Estimand assumption 1, Unconfoundedness: If U→{medication} and U→recovery then P(recovery|medication,,U) = P(recovery|medication,)\n",
      "### Estimand : 2\n",
      "Estimand name: iv\n",
      "No such variable found!\n",
      "\n",
      "## Realized estimand\n",
      "b: recovery~medication+medication*age+medication*severity+medication*sex\n",
      "Target units: ate\n",
      "\n",
      "## Estimate\n",
      "Mean value: -30.17633551585639\n",
      "p-value: [0.]\n",
      "### Conditional Estimates\n",
      "__categorical__age  __categorical__severity  __categorical__sex\n",
      "(3.262, 22.297]     (-0.000999966, 0.162]    (-0.001, 1.0]        -44.502352\n",
      "                    (0.162, 0.364]           (-0.001, 1.0]        -42.077056\n",
      "                    (0.364, 0.572]           (-0.001, 1.0]        -39.322248\n",
      "                    (0.572, 0.765]           (-0.001, 1.0]        -36.527857\n",
      "                    (0.765, 1.0]             (-0.001, 1.0]        -34.082727\n",
      "(22.297, 27.973]    (-0.000999966, 0.162]    (-0.001, 1.0]        -39.898210\n",
      "                    (0.162, 0.364]           (-0.001, 1.0]        -37.469578\n",
      "                    (0.364, 0.572]           (-0.001, 1.0]        -34.688392\n",
      "                    (0.572, 0.765]           (-0.001, 1.0]        -31.977936\n",
      "                    (0.765, 1.0]             (-0.001, 1.0]        -29.739959\n",
      "(27.973, 33.564]    (-0.000999966, 0.162]    (-0.001, 1.0]        -37.442201\n",
      "                    (0.162, 0.364]           (-0.001, 1.0]        -34.403838\n",
      "                    (0.364, 0.572]           (-0.001, 1.0]        -30.857527\n",
      "                    (0.572, 0.765]           (-0.001, 1.0]        -27.782233\n",
      "                    (0.765, 1.0]             (-0.001, 1.0]        -24.950410\n",
      "(33.564, 40.947]    (-0.000999966, 0.162]    (-0.001, 1.0]        -31.958305\n",
      "                    (0.162, 0.364]           (-0.001, 1.0]        -29.533303\n",
      "                    (0.364, 0.572]           (-0.001, 1.0]        -26.886271\n",
      "                    (0.572, 0.765]           (-0.001, 1.0]        -24.185400\n",
      "                    (0.765, 1.0]             (-0.001, 1.0]        -21.541171\n",
      "(40.947, 118.28]    (-0.000999966, 0.162]    (-0.001, 1.0]        -23.986921\n",
      "                    (0.162, 0.364]           (-0.001, 1.0]        -21.748232\n",
      "                    (0.364, 0.572]           (-0.001, 1.0]        -19.063978\n",
      "                    (0.572, 0.765]           (-0.001, 1.0]        -16.426342\n",
      "                    (0.765, 1.0]             (-0.001, 1.0]        -13.727806\n",
      "dtype: float64\n"
     ]
    }
   ],
   "source": [
    "print(estimate)"
   ]
  },
  {
   "cell_type": "code",
   "execution_count": 102,
   "metadata": {},
   "outputs": [
    {
     "name": "stdout",
     "output_type": "stream",
     "text": [
      "Refute: Add a Random Common Cause\n",
      "Estimated effect:-30.17633551585639\n",
      "New effect:-30.17638113894845\n",
      "\n"
     ]
    }
   ],
   "source": [
    "print(refute_results)"
   ]
  },
  {
   "cell_type": "markdown",
   "metadata": {},
   "source": [
    "# CFML_tools"
   ]
  },
  {
   "cell_type": "code",
   "execution_count": 4,
   "metadata": {},
   "outputs": [
    {
     "name": "stderr",
     "output_type": "stream",
     "text": [
      "/home/millengustavo/miniconda3/envs/causality/lib/python3.7/site-packages/umap/spectral.py:4: NumbaDeprecationWarning: No direct replacement for 'numba.targets' available. Visit https://gitter.im/numba/numba-dev to request help. Thanks!\n",
      "  import numba.targets\n"
     ]
    }
   ],
   "source": [
    "# Source: https://github.com/gdmarmerola/cfml_tools\n",
    "\n",
    "import pandas as pd\n",
    "import numpy as np\n",
    "from sklearn.ensemble import ExtraTreesRegressor, ExtraTreesClassifier\n",
    "from sklearn.tree import DecisionTreeRegressor, DecisionTreeClassifier\n",
    "from sklearn.model_selection import KFold, cross_val_score\n",
    "from sklearn.preprocessing import StandardScaler\n",
    "from umap import UMAP\n",
    "from pynndescent import NNDescent\n",
    "\n",
    "# class for computing effects using forest embeddings\n",
    "class ForestEmbeddingsCounterfactual:\n",
    "    \n",
    "    \"\"\"\n",
    "    Counterfactual estimation using forest embeddings.\n",
    "    Given explanatory variables X, target variable y and treatment variable W, \n",
    "    this class implements an individual counterfactual estimation model. \n",
    "    We can break down the process in four steps:\n",
    "    1 - model step) Fit and validate an ensemble of trees (ET, RF, etc) from X to y\n",
    "    2 - embedding step) Build a supervised embedding using forest's trees leaves\n",
    "    3 - kNN step) For each sample, find K nearest neighbors in this new space \n",
    "    4 - comparison step) Compare W and y for each of the neighborhoods to determine the counterfactuals for each sample\n",
    "    Parameters\n",
    "    ----------\n",
    "    model : object, optinal (default=None)\n",
    "    Forest-based model which implements sklearn's API, particularly the .apply() method. \n",
    "    Must be already configured. Classification and regression models accepted.\n",
    "    If None, model will be ExtraTreesRegressor(n_estimators=1000, min_samples_leaf=5, bootstrap=True, n_jobs=-1).\n",
    "    n_neighbors : int, optional (default=200)\n",
    "    Number of neighbors to be considered at the kNN step. There's a bias-variance tradeoff here: \n",
    "    set n_neighbors too low, estimates will be volatile and unreliable. \n",
    "    Set n_neighbors too high, and the estimate will be biased (neighbors won't be comparable). \n",
    "    min_sample_effect : int, optional (default=10)\n",
    "    The minimum number of samples in a neighborhood for the counterfactual estimate to be valid, for a given W. \n",
    "    If there's less treated/untreated elements than min_sample_effect in a neighborhood, the counterfactual will be NaN.\n",
    "    save_explanatory : bool, optional (default=False)\n",
    "    Save explanatory variables for explaining predictions. May cause large memory overhead.\n",
    "    random_state : int, optional (default=None)\n",
    "    If int, random_state is the seed used by the random number generator;\n",
    "    If RandomState instance, random_state is the random number generator;\n",
    "    If None, the random number generator is the RandomState instance used\n",
    "    by `np.random`.\n",
    "    \n",
    "    \"\"\"   \n",
    "\n",
    "    # initializing\n",
    "    def __init__(self, model=None, n_neighbors=200, min_sample_effect=10, save_explanatory=False, random_state=None):\n",
    "\n",
    "        # storing model\n",
    "        if model == None:\n",
    "            self.model = ExtraTreesRegressor(n_estimators=1000, min_samples_leaf=5, bootstrap=True, n_jobs=-1)\n",
    "        else:\n",
    "            self.model = model\n",
    "\n",
    "        # storing variables\n",
    "        self.n_neighbors = int(n_neighbors)\n",
    "        self.min_sample_effect = int(min_sample_effect)\n",
    "        self.save_explanatory = save_explanatory\n",
    "        self.random_state = random_state\n",
    "\n",
    "    # method for computing embedding\n",
    "    def _get_forest_embed(self, X):\n",
    "\n",
    "        \"\"\"\n",
    "        Wrapper for extracting embeddings from forests given selected mode.\n",
    "        Model must be fitted.\n",
    "        \"\"\"\n",
    "\n",
    "        # applying the model to get leaves\n",
    "        this_embed = self.model.apply(X)\n",
    "\n",
    "        # returning forest embedding\n",
    "        return this_embed\n",
    "\n",
    "\n",
    "    # fit model and neighbors\n",
    "    def fit(self, X, W, y, verbose=0):\n",
    "\n",
    "        \"\"\"\n",
    "        Fit a counterfactual estimation model given explanatory variables X, treatment variable W and target y\n",
    "        This method fits a forest-based model, extracts a supervised embedding from its leaves, \n",
    "        and builds an nearest neighbor index on the embedding\n",
    "        Parameters\n",
    "        ----------\n",
    "        \n",
    "        X : array-like or sparse matrix of shape = [n_samples, n_features]\n",
    "        \n",
    "        Data with explanatory variables, with possible confounders of treatment assignment and effect.\n",
    "        W : array-like, shape = [n_samples] \n",
    "        Treatment variable. The model will try to estimate a counterfactual outcome for each unique value in this variable.\n",
    "        Should not exceed 10 values.\n",
    "        y: array-like, shape = [n_samples]\n",
    "    \n",
    "        Target variable. \n",
    "        verbose : int, optional (default=0)\n",
    "        Verbosity level.\n",
    "        Returns\n",
    "        -------\n",
    "        self: object\n",
    "        \"\"\"\n",
    "        \n",
    "        # checking if W has too many unique values\n",
    "        if len(np.unique(W)) > 10:\n",
    "            raise ValueError('More than 10 unique values for W. Too many unique values will make the process very expensive.')\n",
    "\n",
    "        # fitting the model\n",
    "        self.model.fit(X, y)\n",
    "\n",
    "        # getting forest embedding from model\n",
    "        self.train_embed_ = self._get_forest_embed(X)\n",
    "\n",
    "        # create neighbor index\n",
    "        self.nn_index = NNDescent(self.train_embed_, metric='hamming')\n",
    "\n",
    "        # creating a df with treatment assignments and outcomes\n",
    "        self.train_outcome_df = pd.DataFrame({'neighbor': range(X.shape[0]), 'y': y, 'W': W})\n",
    "\n",
    "        # saving explanatory variables\n",
    "        if self.save_explanatory:\n",
    "            self.X_train = X.assign(W=W, y=y)\n",
    "\n",
    "        # return self\n",
    "        return self\n",
    "\n",
    "    # method for predicting counterfactuals\n",
    "    def predict(self, X, verbose=0):\n",
    "\n",
    "        \"\"\"\n",
    "        Predict counterfactual outcomes for X. \n",
    "        This method will search the nearest neighbor index built using .fit(), and estimate\n",
    "        counterfactual outcomes using kNN\n",
    "        Parameters\n",
    "        ----------\n",
    "        \n",
    "        X : array-like or sparse matrix of shape = [n_samples, n_features]\n",
    "        \n",
    "        Data with explanatory variables, with possible confounders of treatment assignment and effect.\n",
    "        verbose : int, optional (default=0)\n",
    "        Verbosity level.\n",
    "        Returns\n",
    "        -------\n",
    "        \n",
    "        counterfactual_df : pd.DataFrame\n",
    "        Counterfactual outcomes per sample.\n",
    "        \"\"\"\n",
    "\n",
    "        # getting forest embedding from model\n",
    "        X_embed_ = self._get_forest_embed(X)\n",
    "\n",
    "        # getting nearest neighbors and distances from index\n",
    "        neighs, dists = self.nn_index.query(X_embed_, k=self.n_neighbors + 1)\n",
    "                        \n",
    "        # creating a df for neighbor ids\n",
    "        neighs_df = (pd.DataFrame(neighs)\n",
    "                     .reset_index()\n",
    "                     .melt(id_vars='index')\n",
    "                     .rename(columns={'index':'id','value':'neighbor'})\n",
    "                     .reset_index(drop=True))\n",
    "\n",
    "        # creating a df for the similarities\n",
    "        similarities_df = (pd.DataFrame(1 - dists)\n",
    "                           .reset_index()\n",
    "                           .melt(id_vars='index')\n",
    "                           .rename(columns={'index':'id','value':'weight'})\n",
    "                           .reset_index(drop=True))\n",
    "\n",
    "        # joining the datasets and adding weighted y variable\n",
    "        nearest_neighs_df = (neighs_df\n",
    "                             .merge(similarities_df)\n",
    "                             .drop('variable', axis=1)\n",
    "                             .merge(self.train_outcome_df, on='neighbor', how='left')\n",
    "                             .assign(y_weighted = lambda x: x.y*(x.weight))\n",
    "                             .sort_values('id'))\n",
    "        \n",
    "        # processing to get the effects\n",
    "        counterfactual_df = nearest_neighs_df.assign(count=1).groupby(['id','W']).sum()\n",
    "        #counterfactual_df['y_hat'] = counterfactual_df['y']/counterfactual_df['count']\n",
    "        counterfactual_df['y_hat'] = counterfactual_df['y_weighted']/counterfactual_df['weight']\n",
    "        counterfactual_df.loc[counterfactual_df['count'] < self.min_sample_effect,'y_hat'] = np.nan\n",
    "        counterfactual_df = counterfactual_df.pivot_table(values=['y_hat'], columns='W', index='id')\n",
    "        \n",
    "        # returning counterfactual df\n",
    "        return counterfactual_df\n",
    "\n",
    "\n",
    "    # running CV for model parameters\n",
    "    def get_cross_val_scores(self, X, y, scoring=None, verbose=0):\n",
    "\n",
    "        \"\"\"\n",
    "        Estimate model generalization power with 5-fold CV.\n",
    "        Parameters\n",
    "        ----------\n",
    "        \n",
    "        X : array-like or sparse matrix of shape = [n_samples, n_features]\n",
    "        \n",
    "        Data with explanatory variables, with possible confounders of treatment assignment and effect.\n",
    "        y: array-like, shape = [n_samples]\n",
    "        Target variable. \n",
    "        \n",
    "        scoring : string, callable or None, optional, default: None\n",
    "        \n",
    "        Scoring method for sklearn's cross_val_score function:\n",
    "        A string (see model evaluation documentation) or\n",
    "        a scorer callable object / function with signature\n",
    "        ``scorer(estimator, X, y)`` which should return only\n",
    "        a single value.\n",
    "        Similar to :func:`cross_validate`\n",
    "        but only a single metric is permitted.\n",
    "        If None, the estimator's default scorer (if available) is used.\n",
    "        \n",
    "        verbose : int, optional (default=0)\n",
    "        Verbosity level for sklearn's function cross_val_score.\n",
    "        Returns\n",
    "        -------\n",
    "        \n",
    "        scores : array of float, shape=(len(list(cv)),)\n",
    "        Array of scores of the estimator for each run of the cross validation.\n",
    "        \n",
    "        \"\"\"\n",
    "        \n",
    "        # CV method\n",
    "        kf = KFold(n_splits=5, shuffle=True, random_state=self.random_state)\n",
    "\n",
    "        # generating validation predictions\n",
    "        scores = cross_val_score(self.model, X, y, cv=kf, scoring=scoring, verbose=verbose)\n",
    "\n",
    "        # calculating result\n",
    "        return scores\n",
    "\n",
    "    # generating manifold with UMAP\n",
    "    def get_umap_embedding(self, X, verbose=0):\n",
    "\n",
    "        \"\"\"\n",
    "        Compute a 2D manifold from the forest embedding for validation and criticism.\n",
    "        Parameters\n",
    "        ----------\n",
    "        \n",
    "        X : array-like or sparse matrix of shape = [n_samples, n_features]\n",
    "        \n",
    "        Data with explanatory variables, with possible confounders of treatment assignment and effect.\n",
    "        verbose : int, optional (default=0)\n",
    "        Verbosity level for UMAP.\n",
    "        Returns\n",
    "        -------\n",
    "        \n",
    "        reduced_embed : array of shape = [n_samples, 2]\n",
    "        2D representation of forest embedding using UMAP. \n",
    "        \"\"\"\n",
    "        \n",
    "        # getting forest embedding from model\n",
    "        X_embed_ = self._get_forest_embed(X)\n",
    "\n",
    "        # reducing embedding to 2 dimensions\n",
    "        reduced_embed = UMAP(metric='hamming', verbose=verbose).fit_transform(X_embed_)\n",
    "        \n",
    "        # returning \n",
    "        return reduced_embed\n",
    "\n",
    "    # method for explaning predictions\n",
    "    def explain(self, sample):\n",
    "\n",
    "        \"\"\"\n",
    "        Explain predcitions of counterfactual outcomes for one sample. \n",
    "        This method shows diagnostics and comparables so you can trust\n",
    "        and explain counterfactual predictions to others\n",
    "        Parameters\n",
    "        ----------\n",
    "        \n",
    "        sample : array-like or sparse matrix of shape = [1, n_features]\n",
    "        \n",
    "        Sample that you want to get explanations for\n",
    "        Returns\n",
    "        -------\n",
    "        \n",
    "        comparables_table : pd.DataFrame\n",
    "        Table of comparable elements.\n",
    "        \"\"\"\n",
    "\n",
    "        # getting forest embedding from model\n",
    "        sample_embed = self._get_forest_embed(sample)\n",
    "\n",
    "        # getting nearest neighbors and distances from index\n",
    "        neighs, dists = self.nn_index.query(sample_embed, k=self.n_neighbors + 1)\n",
    "\n",
    "        # querying comparables\n",
    "        try:\n",
    "            comparables_table = self.X_train.iloc[neighs[0]]\n",
    "        except Exception as e:\n",
    "            raise type(e)('Model did not store training samples to get explanations from. Setting save_explanatory=True should solve the issue')\n",
    "\n",
    "        # returning comparables table\n",
    "        return comparables_table\n",
    "    \n",
    "# class for using a decision tree to compute effects\n",
    "class DecisionTreeCounterfactual:\n",
    "\n",
    "    \"\"\"\n",
    "    Counterfactual estimation using a decision tree.\n",
    "    Given explanatory variables X, target variable y and treatment variable W, \n",
    "    this class implements an individual counterfactual estimation model. \n",
    "    We can break down the process in three steps:\n",
    "    1 - model step) Fit a decision tree to X and y\n",
    "    2 - comparison step) at each of the tree's leaves, compare W and y to determine the counterfactuals for the leaf \n",
    "    3 - prediction step) assign new samples to a leaf, and predict counterfactuals\n",
    "    Parameters\n",
    "    ----------\n",
    "    model : object, optinal (default=None)\n",
    "    Tree-based model which implements sklearn's API, particularly the .apply() method.\n",
    "    Must be already configured.\n",
    "    If None, model will be DecisionTreeRegressor(min_samples_leaf=100).\n",
    "    min_sample_effect : int, optional (default=10)\n",
    "    The minimum number of samples in a neighborhood to deem a counterfactual estimate valid, for a given W. \n",
    "    If there's less treated/untreated elements than min_sample_effect, the counterfactual will be NaN.\n",
    "    save_explanatory : bool, optional (default=False)\n",
    "    Save explanatory variables for explaining predictions. May cause large memory overhead.\n",
    "    random_state : int, optional (default=None)\n",
    "    If int, random_state is the seed used by the random number generator;\n",
    "    If RandomState instance, random_state is the random number generator;\n",
    "    If None, the random number generator is the RandomState instance used\n",
    "    by `np.random`.\n",
    "    \n",
    "    \"\"\"   \n",
    "\n",
    "    # initializing\n",
    "    def __init__(self, model=None, min_sample_effect=10, save_explanatory=False, random_state=None):\n",
    "\n",
    "        # storing model\n",
    "        if model == None:\n",
    "            self.model = DecisionTreeRegressor(min_samples_leaf=100)\n",
    "        else:\n",
    "            self.model = model\n",
    "\n",
    "        # storing variables\n",
    "        self.min_sample_effect = int(min_sample_effect)\n",
    "        self.random_state = random_state\n",
    "        self.save_explanatory = save_explanatory\n",
    "\n",
    "    # fit model\n",
    "    def fit(self, X, W, y, verbose=0):\n",
    "\n",
    "        \"\"\"\n",
    "        Get counterfactual estimates given explanatory variables X, treatment variable W and target y\n",
    "        This method will fit a decision tree from X to y and store outcomes given distinct W values at each \n",
    "        of its leaves\n",
    "        Parameters\n",
    "        ----------\n",
    "        \n",
    "        X : array-like or sparse matrix of shape = [n_samples, n_features]\n",
    "        \n",
    "        Data with explanatory variables, with possible confounders of treatment assignment and effect.\n",
    "        W : array-like, shape = [n_samples] \n",
    "        Treatment variable. The model will try to estimate a counterfactual outcome for each unique value in this variable.\n",
    "        Should not exceed 10 unique values.\n",
    "        y: array-like, shape = [n_samples]\n",
    "    \n",
    "        Target variable. \n",
    "        verbose : int, optional (default=0)\n",
    "        Verbosity level.\n",
    "        Returns\n",
    "        -------\n",
    "        self: object\n",
    "        \"\"\"\n",
    "\n",
    "        # checking if W has too many unique values\n",
    "        if len(np.unique(W)) > 10:\n",
    "            raise ValueError('More than 10 unique values for W. Too many unique values will make the process very expensive.')\n",
    "\n",
    "        # fitting the model\n",
    "        self.model.fit(X, y)\n",
    "\n",
    "        # storing column names\n",
    "        self.col_names = X.columns\n",
    "\n",
    "        # saving explanatory variables, if applicable\n",
    "        if self.save_explanatory:\n",
    "            self.X_train = X.assign(leaf=self.model.apply(X), W=W, y=y)\n",
    "\n",
    "        # initializing a df with counterfactuals for each leaf\n",
    "        self.leaf_counterfactual_df = (pd.DataFrame({'leaf': self.model.apply(X), 'y': y, 'W': W})\n",
    "                                       .assign(count=1)\n",
    "                                       .groupby(['leaf','W']).sum())\n",
    "\n",
    "        # making estimates based on small samples invalid\n",
    "        self.leaf_counterfactual_df.loc[self.leaf_counterfactual_df['count'] < self.min_sample_effect, 'y'] = np.nan\n",
    "\n",
    "        # correcting y by sample size and making a pivot table\n",
    "        self.leaf_counterfactual_df['y'] = self.leaf_counterfactual_df['y']/self.leaf_counterfactual_df['count']\n",
    "        \n",
    "        # return self\n",
    "        return self\n",
    "\n",
    "    # method for predicting counterfactuals\n",
    "    def predict(self, X, verbose=0):\n",
    "\n",
    "        \"\"\"\n",
    "        Predict counterfactual outcomes for X. \n",
    "        This method runs new samples through the tree, and predicts counterfactuals\n",
    "        given which leaf new samples ended up into\n",
    "        Parameters\n",
    "        ----------\n",
    "        \n",
    "        X : array-like or sparse matrix of shape = [n_samples, n_features]\n",
    "        \n",
    "        Data with explanatory variables, with possible confounders of treatment assignment and effect.\n",
    "        verbose : int, optional (default=0)\n",
    "        Verbosity level.\n",
    "        Returns\n",
    "        -------\n",
    "        \n",
    "        counterfactual_df : pd.DataFrame\n",
    "        Counterfactual outcomes per sample.\n",
    "        \"\"\"\n",
    "\n",
    "        # getting decision tree cluster assignments\n",
    "        leaves_test = pd.DataFrame({'leaf': self.model.apply(X), 'id': X.index})\n",
    "\n",
    "        # to get counterfactual df we just need to join leaves_test with leaf_counterfactual_df\n",
    "        counterfactual_df = (leaves_test\n",
    "                             .merge(self.leaf_counterfactual_df.reset_index(), how='left')\n",
    "                             .pivot(values='y', columns='W', index='id'))\n",
    "        counterfactual_df.columns = pd.MultiIndex.from_product([['y_hat'], counterfactual_df.columns,],names=[None,'W'])\n",
    "        \n",
    "        # returning counterfactual df\n",
    "        return counterfactual_df\n",
    "\n",
    "\n",
    "    # running CV for model parameters\n",
    "    def get_cross_val_scores(self, X, y, scoring=None, verbose=0):\n",
    "\n",
    "        \"\"\"\n",
    "        Estimate model generalization power with 5-fold CV.\n",
    "        Parameters\n",
    "        ----------\n",
    "        \n",
    "        X : array-like or sparse matrix of shape = [n_samples, n_features]\n",
    "        \n",
    "        Data with explanatory variables, with possible confounders of treatment assignment and effect.\n",
    "        y: array-like, shape = [n_samples]\n",
    "        Target variable. \n",
    "        \n",
    "        scoring : string, callable or None, optional, default: None\n",
    "        \n",
    "        Scoring method for sklearn's cross_val_score function:\n",
    "        A string (see model evaluation documentation) or\n",
    "        a scorer callable object / function with signature\n",
    "        ``scorer(estimator, X, y)`` which should return only\n",
    "        a single value.\n",
    "        Similar to :func:`cross_validate`\n",
    "        but only a single metric is permitted.\n",
    "        If None, the estimator's default scorer (if available) is used.\n",
    "        \n",
    "        verbose : int, optional (default=0)\n",
    "        Verbosity level for sklearn's function cross_val_score.\n",
    "        Returns\n",
    "        -------\n",
    "        \n",
    "        scores : array of float, shape=(len(list(cv)),)\n",
    "        Array of scores of the estimator for each run of the cross validation.\n",
    "        \n",
    "        \"\"\"\n",
    "        \n",
    "        # CV method\n",
    "        kf = KFold(n_splits=5, shuffle=True, random_state=self.random_state)\n",
    "\n",
    "        # generating validation predictions\n",
    "        scores = cross_val_score(self.model, X, y, cv=kf, scoring=scoring, verbose=verbose)\n",
    "\n",
    "        # calculating result\n",
    "        return scores\n",
    "\n",
    "\n",
    "    # method for explaning predictions\n",
    "    def explain(self, sample):\n",
    "\n",
    "        \"\"\"\n",
    "        Explain predcitions of counterfactual outcomes for one sample. \n",
    "        This method shows diagnostics and comparables so you can trust\n",
    "        and explain counterfactual predictions to others\n",
    "        Parameters\n",
    "        ----------\n",
    "        \n",
    "        sample : array-like or sparse matrix of shape = [1, n_features]\n",
    "        \n",
    "        Sample that you want to get explanations for\n",
    "        Returns\n",
    "        -------\n",
    "        \n",
    "        comparables_table : pd.DataFrame\n",
    "        Table of comparable elements.\n",
    "        \"\"\"\n",
    "\n",
    "        # checking which leaf sample is assigned to\n",
    "        sample_cluster = self.model.apply(sample)\n",
    "\n",
    "        # querying comparables\n",
    "        try:\n",
    "            comparables_table = (self.X_train\n",
    "                                 .query('leaf == {}'.format(sample_cluster))\n",
    "                                 .drop('leaf', axis=1))\n",
    "        except Exception as e:\n",
    "            raise type(e)('Model did not store training samples to get explanations from. Setting save_explanatory=True should solve the issue')\n",
    "\n",
    "        # returning comparables table\n",
    "        return comparables_table"
   ]
  },
  {
   "cell_type": "code",
   "execution_count": 5,
   "metadata": {},
   "outputs": [],
   "source": [
    "N = 10000\n",
    "df_rnd, df_obs, df_cf = make_confounded_data(N)"
   ]
  },
  {
   "cell_type": "code",
   "execution_count": 6,
   "metadata": {},
   "outputs": [],
   "source": [
    "# organizing data into X, W and y\n",
    "X = df_obs[['sex','age','severity']]\n",
    "W = df_obs['medication']\n",
    "y = df_obs['recovery']"
   ]
  },
  {
   "cell_type": "code",
   "execution_count": 7,
   "metadata": {},
   "outputs": [],
   "source": [
    "fecf = ForestEmbeddingsCounterfactual(save_explanatory=True)"
   ]
  },
  {
   "cell_type": "code",
   "execution_count": 8,
   "metadata": {},
   "outputs": [
    {
     "name": "stdout",
     "output_type": "stream",
     "text": [
      "[0.58926452 0.59587515 0.62715688 0.58993316 0.58950284]\n"
     ]
    }
   ],
   "source": [
    "cv_scores = fecf.get_cross_val_scores(X, y)\n",
    "print(cv_scores)"
   ]
  },
  {
   "cell_type": "code",
   "execution_count": 9,
   "metadata": {},
   "outputs": [
    {
     "data": {
      "text/plain": [
       "<__main__.ForestEmbeddingsCounterfactual at 0x7f811e0cb290>"
      ]
     },
     "execution_count": 9,
     "metadata": {},
     "output_type": "execute_result"
    }
   ],
   "source": [
    "# fitting data to our model\n",
    "fecf.fit(X, W, y)"
   ]
  },
  {
   "cell_type": "code",
   "execution_count": 10,
   "metadata": {},
   "outputs": [
    {
     "data": {
      "text/html": [
       "<div>\n",
       "<style scoped>\n",
       "    .dataframe tbody tr th:only-of-type {\n",
       "        vertical-align: middle;\n",
       "    }\n",
       "\n",
       "    .dataframe tbody tr th {\n",
       "        vertical-align: top;\n",
       "    }\n",
       "\n",
       "    .dataframe thead tr th {\n",
       "        text-align: left;\n",
       "    }\n",
       "\n",
       "    .dataframe thead tr:last-of-type th {\n",
       "        text-align: right;\n",
       "    }\n",
       "</style>\n",
       "<table border=\"1\" class=\"dataframe\">\n",
       "  <thead>\n",
       "    <tr>\n",
       "      <th></th>\n",
       "      <th colspan=\"2\" halign=\"left\">y_hat</th>\n",
       "    </tr>\n",
       "    <tr>\n",
       "      <th>W</th>\n",
       "      <th>0.0</th>\n",
       "      <th>1.0</th>\n",
       "    </tr>\n",
       "    <tr>\n",
       "      <th>id</th>\n",
       "      <th></th>\n",
       "      <th></th>\n",
       "    </tr>\n",
       "  </thead>\n",
       "  <tbody>\n",
       "    <tr>\n",
       "      <th>0</th>\n",
       "      <td>NaN</td>\n",
       "      <td>16.812809</td>\n",
       "    </tr>\n",
       "    <tr>\n",
       "      <th>1</th>\n",
       "      <td>33.541749</td>\n",
       "      <td>12.084184</td>\n",
       "    </tr>\n",
       "    <tr>\n",
       "      <th>2</th>\n",
       "      <td>26.956987</td>\n",
       "      <td>NaN</td>\n",
       "    </tr>\n",
       "    <tr>\n",
       "      <th>3</th>\n",
       "      <td>NaN</td>\n",
       "      <td>36.447908</td>\n",
       "    </tr>\n",
       "    <tr>\n",
       "      <th>4</th>\n",
       "      <td>14.180506</td>\n",
       "      <td>NaN</td>\n",
       "    </tr>\n",
       "  </tbody>\n",
       "</table>\n",
       "</div>"
      ],
      "text/plain": [
       "        y_hat           \n",
       "W         0.0        1.0\n",
       "id                      \n",
       "0         NaN  16.812809\n",
       "1   33.541749  12.084184\n",
       "2   26.956987        NaN\n",
       "3         NaN  36.447908\n",
       "4   14.180506        NaN"
      ]
     },
     "execution_count": 10,
     "metadata": {},
     "output_type": "execute_result"
    }
   ],
   "source": [
    "# let us predict counterfactuals for these guys\n",
    "counterfactuals = fecf.predict(X)\n",
    "counterfactuals.head()"
   ]
  },
  {
   "cell_type": "code",
   "execution_count": 11,
   "metadata": {},
   "outputs": [
    {
     "name": "stderr",
     "output_type": "stream",
     "text": [
      "/home/millengustavo/miniconda3/envs/causality/lib/python3.7/site-packages/numpy/lib/histograms.py:839: RuntimeWarning: invalid value encountered in greater_equal\n",
      "  keep = (tmp_a >= first_edge)\n",
      "/home/millengustavo/miniconda3/envs/causality/lib/python3.7/site-packages/numpy/lib/histograms.py:840: RuntimeWarning: invalid value encountered in less_equal\n",
      "  keep &= (tmp_a <= last_edge)\n"
     ]
    },
    {
     "data": {
      "image/png": "[encoded data removed]",
      "text/plain": [
       "<Figure size 960x320 with 1 Axes>"
      ]
     },
     "metadata": {
      "needs_background": "light"
     },
     "output_type": "display_data"
    }
   ],
   "source": [
    "# importing matplotlib\n",
    "import numpy as np\n",
    "import matplotlib.pyplot as plt\n",
    "\n",
    "# treatment effects\n",
    "treatment_effects = counterfactuals['y_hat'][1]/counterfactuals['y_hat'][0]\n",
    "\n",
    "# plotting effects\n",
    "plt.style.use('bmh')\n",
    "plt.figure(figsize=(12,4), dpi=80)\n",
    "plt.hist(treatment_effects, bins=100);\n",
    "plt.axvline(np.exp(-1), color='r', label='truth={}'.format(np.round(np.exp(-1), 3)))\n",
    "plt.axvline(treatment_effects.mean(), color='k', label='predicted={}'.format(np.round(treatment_effects.mean(),3)))\n",
    "plt.xlim(0.25, 0.50)\n",
    "plt.legend()\n",
    "plt.show()"
   ]
  },
  {
   "cell_type": "code",
   "execution_count": 12,
   "metadata": {},
   "outputs": [],
   "source": [
    "dtcf = DecisionTreeCounterfactual(save_explanatory=True)"
   ]
  },
  {
   "cell_type": "code",
   "execution_count": 13,
   "metadata": {},
   "outputs": [
    {
     "name": "stdout",
     "output_type": "stream",
     "text": [
      "[0.54259217 0.55233764 0.55751701 0.55576795 0.52812316]\n"
     ]
    }
   ],
   "source": [
    "cv_scores = dtcf.get_cross_val_scores(X, y)\n",
    "print(cv_scores)"
   ]
  },
  {
   "cell_type": "code",
   "execution_count": 14,
   "metadata": {},
   "outputs": [
    {
     "data": {
      "text/plain": [
       "<__main__.DecisionTreeCounterfactual at 0x7f80f42ac550>"
      ]
     },
     "execution_count": 14,
     "metadata": {},
     "output_type": "execute_result"
    }
   ],
   "source": [
    "# fitting data to our model\n",
    "dtcf.fit(X, W, y)"
   ]
  },
  {
   "cell_type": "code",
   "execution_count": 15,
   "metadata": {},
   "outputs": [
    {
     "data": {
      "text/html": [
       "<div>\n",
       "<style scoped>\n",
       "    .dataframe tbody tr th:only-of-type {\n",
       "        vertical-align: middle;\n",
       "    }\n",
       "\n",
       "    .dataframe tbody tr th {\n",
       "        vertical-align: top;\n",
       "    }\n",
       "\n",
       "    .dataframe thead tr th {\n",
       "        text-align: left;\n",
       "    }\n",
       "\n",
       "    .dataframe thead tr:last-of-type th {\n",
       "        text-align: right;\n",
       "    }\n",
       "</style>\n",
       "<table border=\"1\" class=\"dataframe\">\n",
       "  <thead>\n",
       "    <tr>\n",
       "      <th></th>\n",
       "      <th colspan=\"2\" halign=\"left\">y_hat</th>\n",
       "    </tr>\n",
       "    <tr>\n",
       "      <th>W</th>\n",
       "      <th>0.0</th>\n",
       "      <th>1.0</th>\n",
       "    </tr>\n",
       "    <tr>\n",
       "      <th>id</th>\n",
       "      <th></th>\n",
       "      <th></th>\n",
       "    </tr>\n",
       "  </thead>\n",
       "  <tbody>\n",
       "    <tr>\n",
       "      <th>0</th>\n",
       "      <td>NaN</td>\n",
       "      <td>16.00</td>\n",
       "    </tr>\n",
       "    <tr>\n",
       "      <th>1</th>\n",
       "      <td>32.818182</td>\n",
       "      <td>NaN</td>\n",
       "    </tr>\n",
       "    <tr>\n",
       "      <th>2</th>\n",
       "      <td>25.603774</td>\n",
       "      <td>NaN</td>\n",
       "    </tr>\n",
       "    <tr>\n",
       "      <th>3</th>\n",
       "      <td>NaN</td>\n",
       "      <td>35.69</td>\n",
       "    </tr>\n",
       "    <tr>\n",
       "      <th>4</th>\n",
       "      <td>14.355191</td>\n",
       "      <td>NaN</td>\n",
       "    </tr>\n",
       "  </tbody>\n",
       "</table>\n",
       "</div>"
      ],
      "text/plain": [
       "        y_hat       \n",
       "W         0.0    1.0\n",
       "id                  \n",
       "0         NaN  16.00\n",
       "1   32.818182    NaN\n",
       "2   25.603774    NaN\n",
       "3         NaN  35.69\n",
       "4   14.355191    NaN"
      ]
     },
     "execution_count": 15,
     "metadata": {},
     "output_type": "execute_result"
    }
   ],
   "source": [
    "counterfactuals = dtcf.predict(X)\n",
    "counterfactuals.head()"
   ]
  },
  {
   "cell_type": "code",
   "execution_count": 16,
   "metadata": {},
   "outputs": [
    {
     "name": "stderr",
     "output_type": "stream",
     "text": [
      "/home/millengustavo/miniconda3/envs/causality/lib/python3.7/site-packages/numpy/lib/histograms.py:839: RuntimeWarning: invalid value encountered in greater_equal\n",
      "  keep = (tmp_a >= first_edge)\n",
      "/home/millengustavo/miniconda3/envs/causality/lib/python3.7/site-packages/numpy/lib/histograms.py:840: RuntimeWarning: invalid value encountered in less_equal\n",
      "  keep &= (tmp_a <= last_edge)\n"
     ]
    },
    {
     "data": {
      "image/png": "[encoded data removed]",
      "text/plain": [
       "<Figure size 960x320 with 1 Axes>"
      ]
     },
     "metadata": {
      "needs_background": "light"
     },
     "output_type": "display_data"
    }
   ],
   "source": [
    "# importing matplotlib\n",
    "import numpy as np\n",
    "import matplotlib.pyplot as plt\n",
    "\n",
    "# treatment effects\n",
    "treatment_effects = counterfactuals['y_hat'][1]/counterfactuals['y_hat'][0]\n",
    "\n",
    "# plotting effects\n",
    "plt.style.use('bmh')\n",
    "plt.figure(figsize=(12,4), dpi=80)\n",
    "plt.hist(treatment_effects, bins=10);\n",
    "plt.axvline(np.exp(-1), color='r', label='truth={}'.format(np.round(np.exp(-1), 3)))\n",
    "plt.axvline(treatment_effects.mean(), color='k', label='predicted={}'.format(np.round(treatment_effects.mean(),3)))\n",
    "plt.xlim(0.25, 0.50)\n",
    "plt.legend()\n",
    "plt.show()"
   ]
  },
  {
   "cell_type": "markdown",
   "metadata": {},
   "source": [
    "# Conclusions\n",
    "- Always be skeptic of studies and investigate the data generation process\n",
    "- Oftentimes, observational data may be all we got, so we must do our best to refine our hypothesis using domain knowledge to draw a Causal Diagrams before just applying ML algorithms\n",
    "- Even after drawing the correct Causal Diagram we saw that the methods aren't always able to correctly estimate the causal effect. Therefore, make sure you inform the limitations of the methods you are using to estimate the causal effects"
   ]
  },
  {
   "cell_type": "code",
   "execution_count": null,
   "metadata": {},
   "outputs": [],
   "source": []
  }
 ],
 "metadata": {
  "kernelspec": {
   "display_name": "Python 3",
   "language": "python",
   "name": "python3"
  },
  "language_info": {
   "codemirror_mode": {
    "name": "ipython",
    "version": 3
   },
   "file_extension": ".py",
   "mimetype": "text/x-python",
   "name": "python",
   "nbconvert_exporter": "python",
   "pygments_lexer": "ipython3",
   "version": "3.7.7"
  }
 },
 "nbformat": 4,
 "nbformat_minor": 4
}
